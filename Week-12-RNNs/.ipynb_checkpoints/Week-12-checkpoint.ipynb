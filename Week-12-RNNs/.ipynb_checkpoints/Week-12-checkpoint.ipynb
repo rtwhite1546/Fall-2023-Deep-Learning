{
 "cells": [
  {
   "cell_type": "markdown",
   "id": "eda77884-c4c7-4475-abf5-5a6c6d3cf793",
   "metadata": {},
   "source": [
    "# Week 12"
   ]
  },
  {
   "cell_type": "markdown",
   "id": "edab821c-71d2-4c84-affe-499b007ed4e3",
   "metadata": {
    "tags": []
   },
   "source": [
    "# Lecture 20 - Recurrent Neural Networks\n",
    "\n",
    "Recurrent neural networks are simply networks that can have connections going backward in the network, unlike the nets we have seen so far.\n",
    "\n",
    "Here, we introduce an idea of timesteps where we input a datapoint to the net at each timestep. As a datapoint passes through an RNN, it will proceed to the output layer but the information being sent through the reverse connections will be fed into the net while the next datapoint is passed through the RNN.\n",
    "\n",
    "## Why Are Backward Connections Useful?\n",
    "\n",
    "The way RNNs operate means the current datapoint will receive information derived from the previous datapoint since weights will persist and feed information into the net as a new datapoint goes through the net.\n",
    "\n",
    "The prior information continues to influence how the net operates because, at a third timestep, the information will continue going through the loops in the network architecture, the same at the fourth step, and so on. Therefore, a fundamental difference between RNNs and the nets we have seen in the past is this persistent \"memory\" of previous datapoints, which allows us to use context of the previous datapoints to make inferences about each datapoint.\n",
    "\n",
    "### Examples\n",
    "\n",
    "If we have a paragraph of text, we could feed it into the net word-by-word and try to classify the whole sequence. It gives us the power of using the *context* built by the other words in the paragraph. Any use of language, such as recognizing spoken words, handwritten text, or sign language, can benefit from this.\n",
    "\n",
    "In addition, in handwriting recognition where we have a whole word of text, certainly knowing some letters in the word can help you figure out an unknown letter in the center. For example, if we have a K, it is very very unlikely the next letter will be a Q in English. For another example, here's a word I wrote:\n",
    "\n",
    "![img](../images/feature.png)\n",
    "\n",
    "Obviously, being an intelligent human, you know the third letter is an 'a' and not a 'u' because \"feuture\" isn't a word and your professor has passable spelling skills. However, looking at that letter in isolation makes its identity totally ambiguous. Letter/digit recognition is the kind of task we have assigned to neural nets before, but RNNs have a more unique ability to read letters one-by-one, and use the past letters to influence later classifications.\n",
    "\n",
    "The commonality in all of these examples is that they all involve making inferences about *sequences* of inputs (letters, words, signs), rather than just individual inputs.\n",
    "\n",
    "Note that we are talking only of new datapoints being influenced by prior datapoints, but we will also learn about bidirectional RNNs, which look both forward and backward in time by distances the net will learn.\n",
    "\n",
    "Of course, CNNs also use local structure within datapoints to make inferences about the whole datapoint too, but we have to specify what size filters and how many filters to use for this. With RNNs, the net will automatically learn to use as much of the past information as it needs to use for a given point.\n",
    "\n",
    "## Training RNNs\n",
    "\n",
    "The most common approach to training RNNs is essentially the same as any other neural net we have seen: stochastic gradient descent and backpropagation. SGD will operate just the same as the other nets. Recall we have used backpropagation to compute exact gradients needed by SGD by systematic use of the chain rule propagating backwards from the loss function to the weights and biases in the network.\n",
    "\n",
    "RNNs present a challenge to this idea--what does it mean to propagate backwards in a net that has loops?! There would be infinite paths the method could take since there are loops it could traverse arbitrarily many times."
   ]
  },
  {
   "cell_type": "markdown",
   "id": "a11b7db0-3a3f-48a8-92d2-4cd965872da3",
   "metadata": {},
   "source": [
    "## Sentiment Analysis\n",
    "\n",
    "One area of application of RNNs is in sentiment analysis--attempts to identify the feelings associated with written text. Examples:\n",
    "\n",
    "* Is a review of a product or service or song or movie positive, neutral, or negative?\n",
    "* Was someone happy or sad in describing their day?\n",
    "* Are song lyrics sad or happy or excited?\n",
    "\n",
    "### Movie Reviews\n",
    "\n",
    "Let's see what we can do with movie reviews for an experiment in sentiment analysis. The data comes from the Internet Movie Database (IMBD), provided by\n",
    "\n",
    "* Andrew L. Maas, Raymond E. Daly, Peter T. Pham, Dan Huang, Andrew Y. Ng, and Christopher Potts. (2011). [Learning Word Vectors for Sentiment Analysis](https://ai.stanford.edu/~amaas/papers/wvSent_acl2011.pdf). *The 49th Annual Meeting of the Association for Computational Linguistics (ACL 2011)*.\n",
    "\n",
    "The dataset contains 50,000 reviews (half in a training set, half in a testing set). Each dataset has reviews from disjoint sets of movies, at most 30 per movie. Each review on IMDB includes a rating from 0 to 10, but the data includes only negative reviews ($\\leq 4$ rating) and positive reviews ($\\geq 6$ rating) as the labels for the datapoints.\n",
    "\n",
    "We will use the dataset to try to classify the reviews as positive or negative."
   ]
  },
  {
   "cell_type": "code",
   "execution_count": 1,
   "id": "81e21a30-d774-42ac-8516-2cbdb23de2dd",
   "metadata": {},
   "outputs": [],
   "source": [
    "from tensorflow.keras import Input\n",
    "from tensorflow.keras.layers import Activation\n",
    "from tensorflow.keras.layers import Bidirectional\n",
    "from tensorflow.keras.layers import Conv1D\n",
    "from tensorflow.keras.layers import Dense\n",
    "from tensorflow.keras.layers import Dropout\n",
    "from tensorflow.keras.layers import Embedding\n",
    "from tensorflow.keras.layers import InputLayer\n",
    "from tensorflow.keras.layers import LSTM\n",
    "from tensorflow.keras.layers import MaxPooling1D\n",
    "from tensorflow.keras.layers import SimpleRNN\n",
    "from tensorflow.keras.layers.experimental.preprocessing import TextVectorization\n",
    "from tensorflow.keras.models import Sequential\n",
    "from tensorflow.keras.preprocessing import text_dataset_from_directory\n",
    "from tensorflow.strings import regex_replace\n",
    "\n",
    "import matplotlib.pyplot as plt\n",
    "import numpy as np\n",
    "import os\n",
    "import shutil\n",
    "import zipfile"
   ]
  },
  {
   "cell_type": "code",
   "execution_count": 2,
   "id": "79007d95-3b1a-4a36-86d7-ae7862f4a992",
   "metadata": {},
   "outputs": [],
   "source": [
    "# unzip the imdb dataset\n",
    "with zipfile.ZipFile('../data/imdb.zip', 'r') as zip_ref:\n",
    "    zip_ref.extractall('../data/imdb/')"
   ]
  },
  {
   "cell_type": "code",
   "execution_count": 3,
   "id": "0662a7c5-8284-4e02-9b76-21058615eca1",
   "metadata": {},
   "outputs": [
    {
     "name": "stdout",
     "output_type": "stream",
     "text": [
      "Found 25000 files belonging to 2 classes.\n",
      "Found 25000 files belonging to 2 classes.\n"
     ]
    }
   ],
   "source": [
    "# clean the data by removing linebreaks\n",
    "def prepareData(dir):\n",
    "    # read the directory of datapoints and labels into a Dataset object\n",
    "    data = text_dataset_from_directory(dir)\n",
    "    \n",
    "    # replace HTML linebreaks from the text with spaces\n",
    "    return data.map(lambda text, label: (regex_replace(text, '<br />', ' '), label))\n",
    "\n",
    "# read the directory into memory and clean the text\n",
    "trainData = prepareData('../data/imdb/train')\n",
    "testData = prepareData('../data/imdb/test')"
   ]
  },
  {
   "cell_type": "code",
   "execution_count": 5,
   "id": "12d64684-c901-4cf8-9736-6f6adb0c6194",
   "metadata": {},
   "outputs": [
    {
     "name": "stdout",
     "output_type": "stream",
     "text": [
      "b'I can\\'t believe I waste my time watching this garbage! I did because Leonard Maltin gave it an \"AA\" rating, and for TV movies this is usually a reliable indicator of some quality entertainment.  The acting was OK, but whoever wrote it should be forever denied access to any medium of communication. The plot is ludicrous, the motivations of the \"bad guys\" totally absent, and the various family interactions silly and shallow. For example, Dad preaches that violent reaction to aggression is BAD, but he turns out to be an \"admirable\" person NOT because of his \"ignore the idiots\" philosophy, but because he\\'s pretty good with his fists...  The ONLY message I was able to glean from this pap was that the nuclear family is Good and alternate living arrangements are Bad. Oh, and Bad people happen to Good people.'\n",
      "0\n"
     ]
    }
   ],
   "source": [
    "# randomly print a review and label\n",
    "for text_batch, label_batch in trainData.take(1):\n",
    "    print(text_batch.numpy()[5])\n",
    "    print(label_batch.numpy()[5]) # 0 = negative, 1 = positive"
   ]
  },
  {
   "cell_type": "markdown",
   "id": "7e48950c-cd58-48d1-bd80-34a0c516f501",
   "metadata": {},
   "source": [
    "Next, we will run some experiments on small, comparable nets of some different types."
   ]
  },
  {
   "cell_type": "markdown",
   "id": "85986c6a-997e-42cf-92f6-3dae8d768f38",
   "metadata": {},
   "source": [
    "#### Fully-Connected Net Experiments\n",
    "\n",
    "First, we create a layer that will vectorize our text into integer values corresponding to each word. This layer will be used in the upcoming experiments. Running this code block will do some preprocessing to customize the layer to our specific dataset.\n",
    "\n",
    "Then, we continue to build a net with this layer."
   ]
  },
  {
   "cell_type": "code",
   "execution_count": 5,
   "id": "d8d92e76-d0bd-4624-81f6-194628851831",
   "metadata": {},
   "outputs": [
    {
     "name": "stdout",
     "output_type": "stream",
     "text": [
      "Found 25000 files belonging to 2 classes.\n",
      "Found 25000 files belonging to 2 classes.\n",
      "WARNING:tensorflow:Please add `keras.layers.InputLayer` instead of `keras.Input` to Sequential model. `keras.Input` is intended to be used by Functional model.\n"
     ]
    }
   ],
   "source": [
    "# read the directory into memory and clean the text\n",
    "trainData = prepareData('../data/imdb/train')\n",
    "testData = prepareData('../data/imdb/test')\n",
    "\n",
    "# create a TextVectorization layer to turn input string into a sequence of integers,\n",
    "# each representing one token\n",
    "maxTokens = 1000\n",
    "vectorizeLayer = TextVectorization(max_tokens = maxTokens,\n",
    "                                   output_mode = 'int',\n",
    "                                   output_sequence_length = 100)\n",
    "\n",
    "# extract text from the training data\n",
    "trainText = trainData.map(lambda text, label: text)\n",
    "\n",
    "# adapt() fits the TextVectorization layer to our text dataset. This is when the\n",
    "# max_tokens most common words (i.e. the vocabulary) are selected.\n",
    "vectorizeLayer.adapt(trainText)\n",
    "\n",
    "# create a neural network\n",
    "model = Sequential()\n",
    "\n",
    "model.add(Input(shape=(1,), dtype = 'string'))\n",
    "\n",
    "# add vectorize layer to the model\n",
    "model.add(vectorizeLayer)\n",
    "\n",
    "# add an embedding layer to turn integers into fixed-length vectors\n",
    "model.add(Embedding(maxTokens + 1, 128))\n",
    "\n",
    "# add a dense layer\n",
    "model.add(Dense(64, activation = 'relu'))\n",
    "\n",
    "# add a dense layer\n",
    "model.add(Dense(64, activation = 'relu'))\n",
    "\n",
    "# add softmax classifier\n",
    "model.add(Dense(1, activation = 'sigmoid'))"
   ]
  },
  {
   "cell_type": "code",
   "execution_count": 6,
   "id": "5d7aafa9-4078-4744-a5ca-bdd7eec35d01",
   "metadata": {},
   "outputs": [
    {
     "name": "stdout",
     "output_type": "stream",
     "text": [
      "Model: \"sequential\"\n",
      "_________________________________________________________________\n",
      "Layer (type)                 Output Shape              Param #   \n",
      "=================================================================\n",
      "text_vectorization (TextVect (None, 100)               0         \n",
      "_________________________________________________________________\n",
      "embedding (Embedding)        (None, 100, 128)          128128    \n",
      "_________________________________________________________________\n",
      "dense (Dense)                (None, 100, 64)           8256      \n",
      "_________________________________________________________________\n",
      "dense_1 (Dense)              (None, 100, 64)           4160      \n",
      "_________________________________________________________________\n",
      "dense_2 (Dense)              (None, 100, 1)            65        \n",
      "=================================================================\n",
      "Total params: 140,609\n",
      "Trainable params: 140,609\n",
      "Non-trainable params: 0\n",
      "_________________________________________________________________\n"
     ]
    }
   ],
   "source": [
    "model.compile(optimizer = 'adam', loss = 'binary_crossentropy', metrics = ['accuracy'])\n",
    "model.summary()"
   ]
  },
  {
   "cell_type": "code",
   "execution_count": 7,
   "id": "f671efb2-816d-47b5-9d3b-1f00d5a530f3",
   "metadata": {},
   "outputs": [
    {
     "name": "stdout",
     "output_type": "stream",
     "text": [
      "Epoch 1/10\n",
      "782/782 [==============================] - 20s 25ms/step - loss: 0.6866 - accuracy: 0.5350 - val_loss: 0.6858 - val_accuracy: 0.5377\n",
      "Epoch 2/10\n",
      "782/782 [==============================] - 16s 20ms/step - loss: 0.6853 - accuracy: 0.5401 - val_loss: 0.6862 - val_accuracy: 0.5301\n",
      "Epoch 3/10\n",
      "782/782 [==============================] - 16s 20ms/step - loss: 0.6852 - accuracy: 0.5398 - val_loss: 0.6857 - val_accuracy: 0.5376\n",
      "Epoch 4/10\n",
      "782/782 [==============================] - 16s 20ms/step - loss: 0.6851 - accuracy: 0.5403 - val_loss: 0.6859 - val_accuracy: 0.5374\n",
      "Epoch 5/10\n",
      "782/782 [==============================] - 16s 20ms/step - loss: 0.6851 - accuracy: 0.5403 - val_loss: 0.6859 - val_accuracy: 0.5377\n",
      "Epoch 6/10\n",
      "782/782 [==============================] - 16s 20ms/step - loss: 0.6850 - accuracy: 0.5406 - val_loss: 0.6858 - val_accuracy: 0.5377\n",
      "Epoch 7/10\n",
      "782/782 [==============================] - 16s 20ms/step - loss: 0.6850 - accuracy: 0.5404 - val_loss: 0.6859 - val_accuracy: 0.5377\n",
      "Epoch 8/10\n",
      "782/782 [==============================] - 16s 20ms/step - loss: 0.6849 - accuracy: 0.5407 - val_loss: 0.6861 - val_accuracy: 0.5375\n",
      "Epoch 9/10\n",
      "782/782 [==============================] - 16s 20ms/step - loss: 0.6849 - accuracy: 0.5406 - val_loss: 0.6859 - val_accuracy: 0.5377\n",
      "Epoch 10/10\n",
      "782/782 [==============================] - 16s 20ms/step - loss: 0.6849 - accuracy: 0.5409 - val_loss: 0.6857 - val_accuracy: 0.5380\n"
     ]
    },
    {
     "data": {
      "text/plain": [
       "<matplotlib.legend.Legend at 0x20af6e50c10>"
      ]
     },
     "execution_count": 7,
     "metadata": {},
     "output_type": "execute_result"
    },
    {
     "data": {
      "image/png": "[encoded data removed]",
      "text/plain": [
       "<Figure size 432x288 with 1 Axes>"
      ]
     },
     "metadata": {},
     "output_type": "display_data"
    }
   ],
   "source": [
    "epochs = 10\n",
    "\n",
    "H = model.fit(trainData, validation_data = testData, epochs = epochs)\n",
    "\n",
    "plt.style.use('ggplot')\n",
    "plt.figure()\n",
    "plt.plot(np.arange(0, epochs), H.history['loss'], label = 'train_loss')\n",
    "plt.plot(np.arange(0, epochs), H.history['val_loss'], label = 'val_loss')\n",
    "plt.plot(np.arange(0, epochs), H.history['accuracy'], label = 'train_acc')\n",
    "plt.plot(np.arange(0, epochs), H.history['val_accuracy'], label = 'val_acc')\n",
    "    \n",
    "# add labels and legend\n",
    "plt.title('Training Loss and Accuracy')\n",
    "plt.xlabel('Epoch #')\n",
    "plt.ylabel('Loss/Accuracy')\n",
    "plt.legend()"
   ]
  },
  {
   "cell_type": "code",
   "execution_count": 8,
   "id": "f8da4f4c-89ba-4a17-9a2d-571f157f3bfb",
   "metadata": {},
   "outputs": [
    {
     "name": "stdout",
     "output_type": "stream",
     "text": [
      "782/782 [==============================] - 7s 9ms/step - loss: 0.6857 - accuracy: 0.5380\n"
     ]
    },
    {
     "data": {
      "text/plain": [
       "[0.6857064962387085, 0.5380005240440369]"
      ]
     },
     "execution_count": 8,
     "metadata": {},
     "output_type": "execute_result"
    }
   ],
   "source": [
    "model.evaluate(testData)"
   ]
  },
  {
   "cell_type": "markdown",
   "id": "73d27d54-039d-487d-94e7-87cf43bd36ea",
   "metadata": {},
   "source": [
    "Our results here, at 54% are only slightly better than randomly guessing, so this net does not seem very useful for this problem. This makes some sense -- why would a fully-connected net that merely looks at individual words really determine if some text is positive or negative?"
   ]
  },
  {
   "cell_type": "markdown",
   "id": "04d386be-bfbd-441d-bc0e-5eac19c13062",
   "metadata": {},
   "source": [
    "#### Convolutional Net Experiment\n",
    "\n",
    "A convolutional net would look at local structure, so let's try a small CNN."
   ]
  },
  {
   "cell_type": "code",
   "execution_count": 9,
   "id": "c57b928d-8729-420f-aacf-e9f1cd9d7086",
   "metadata": {},
   "outputs": [
    {
     "name": "stdout",
     "output_type": "stream",
     "text": [
      "Found 25000 files belonging to 2 classes.\n",
      "Found 25000 files belonging to 2 classes.\n",
      "WARNING:tensorflow:Please add `keras.layers.InputLayer` instead of `keras.Input` to Sequential model. `keras.Input` is intended to be used by Functional model.\n"
     ]
    }
   ],
   "source": [
    "# read the directory into memory and clean the text\n",
    "trainData = prepareData('../data/imdb/train')\n",
    "testData = prepareData('../data/imdb/test')\n",
    "\n",
    "# create a TextVectorization layer to turn input string into a sequence of integers,\n",
    "# each representing one token\n",
    "maxTokens = 1000\n",
    "vectorizeLayer = TextVectorization(max_tokens = maxTokens,\n",
    "                                   output_mode = 'int',\n",
    "                                   output_sequence_length = 100)\n",
    "\n",
    "# adapt() fits the TextVectorization layer to our text dataset. This is when the\n",
    "# max_tokens most common words (i.e. the vocabulary) are selected.\n",
    "trainText = trainData.map(lambda text, label: text)\n",
    "\n",
    "vectorizeLayer.adapt(trainText)\n",
    "\n",
    "model = Sequential()\n",
    "\n",
    "model.add(Input(shape=(1,), dtype = 'string'))\n",
    "\n",
    "# add layer to the model\n",
    "model.add(vectorizeLayer)\n",
    "\n",
    "# add an embedding layer to turn integers into fixed-length vectors\n",
    "model.add(Embedding(maxTokens + 1, 128))\n",
    "\n",
    "# add a 1D convolutional layer with 64 filters of length 3\n",
    "model.add(Conv1D(64, 3, padding ='same', activation = 'relu'))\n",
    "\n",
    "# add a dense layer\n",
    "model.add(Dense(64, activation = 'relu'))\n",
    "\n",
    "# add softmax classifier\n",
    "model.add(Dense(1, activation = 'sigmoid'))"
   ]
  },
  {
   "cell_type": "code",
   "execution_count": 10,
   "id": "bf24061d-20d9-4f0c-a725-5f7ef6807fec",
   "metadata": {},
   "outputs": [
    {
     "name": "stdout",
     "output_type": "stream",
     "text": [
      "Model: \"sequential_1\"\n",
      "_________________________________________________________________\n",
      "Layer (type)                 Output Shape              Param #   \n",
      "=================================================================\n",
      "text_vectorization_1 (TextVe (None, 100)               0         \n",
      "_________________________________________________________________\n",
      "embedding_1 (Embedding)      (None, 100, 128)          128128    \n",
      "_________________________________________________________________\n",
      "conv1d (Conv1D)              (None, 100, 64)           24640     \n",
      "_________________________________________________________________\n",
      "dense_3 (Dense)              (None, 100, 64)           4160      \n",
      "_________________________________________________________________\n",
      "dense_4 (Dense)              (None, 100, 1)            65        \n",
      "=================================================================\n",
      "Total params: 156,993\n",
      "Trainable params: 156,993\n",
      "Non-trainable params: 0\n",
      "_________________________________________________________________\n"
     ]
    }
   ],
   "source": [
    "model.compile(optimizer = 'adam', loss = 'binary_crossentropy', metrics = ['accuracy'])\n",
    "model.summary()"
   ]
  },
  {
   "cell_type": "code",
   "execution_count": 11,
   "id": "95fa4a1f-58ba-4114-bf18-3a1d6c029be8",
   "metadata": {},
   "outputs": [
    {
     "name": "stdout",
     "output_type": "stream",
     "text": [
      "Epoch 1/10\n",
      "782/782 [==============================] - 23s 20ms/step - loss: 0.6751 - accuracy: 0.5664 - val_loss: 0.6722 - val_accuracy: 0.5712\n",
      "Epoch 2/10\n",
      "782/782 [==============================] - 16s 20ms/step - loss: 0.6703 - accuracy: 0.5761 - val_loss: 0.6713 - val_accuracy: 0.5733\n",
      "Epoch 3/10\n",
      "782/782 [==============================] - 16s 21ms/step - loss: 0.6678 - accuracy: 0.5805 - val_loss: 0.6737 - val_accuracy: 0.5706\n",
      "Epoch 4/10\n",
      "782/782 [==============================] - 16s 20ms/step - loss: 0.6657 - accuracy: 0.5841 - val_loss: 0.6704 - val_accuracy: 0.5753\n",
      "Epoch 5/10\n",
      "782/782 [==============================] - 16s 20ms/step - loss: 0.6637 - accuracy: 0.5869 - val_loss: 0.6706 - val_accuracy: 0.5750\n",
      "Epoch 6/10\n",
      "782/782 [==============================] - 16s 20ms/step - loss: 0.6620 - accuracy: 0.5894 - val_loss: 0.6708 - val_accuracy: 0.5747\n",
      "Epoch 7/10\n",
      "782/782 [==============================] - 16s 20ms/step - loss: 0.6605 - accuracy: 0.5910 - val_loss: 0.6738 - val_accuracy: 0.5730\n",
      "Epoch 8/10\n",
      "782/782 [==============================] - 16s 20ms/step - loss: 0.6589 - accuracy: 0.5935 - val_loss: 0.6709 - val_accuracy: 0.5754\n",
      "Epoch 9/10\n",
      "782/782 [==============================] - 16s 20ms/step - loss: 0.6572 - accuracy: 0.5955 - val_loss: 0.6723 - val_accuracy: 0.5747\n",
      "Epoch 10/10\n",
      "782/782 [==============================] - 16s 20ms/step - loss: 0.6562 - accuracy: 0.5967 - val_loss: 0.6727 - val_accuracy: 0.5737\n"
     ]
    },
    {
     "data": {
      "text/plain": [
       "<matplotlib.legend.Legend at 0x2105804f6a0>"
      ]
     },
     "execution_count": 11,
     "metadata": {},
     "output_type": "execute_result"
    },
    {
     "data": {
      "image/png": "[encoded data removed]",
      "text/plain": [
       "<Figure size 432x288 with 1 Axes>"
      ]
     },
     "metadata": {},
     "output_type": "display_data"
    }
   ],
   "source": [
    "epochs = 10\n",
    "\n",
    "H = model.fit(trainData, validation_data = testData, epochs = epochs)\n",
    "\n",
    "plt.style.use('ggplot')\n",
    "plt.figure()\n",
    "plt.plot(np.arange(0, epochs), H.history['loss'], label = 'train_loss')\n",
    "plt.plot(np.arange(0, epochs), H.history['val_loss'], label = 'val_loss')\n",
    "plt.plot(np.arange(0, epochs), H.history['accuracy'], label = 'train_acc')\n",
    "plt.plot(np.arange(0, epochs), H.history['val_accuracy'], label = 'val_acc')\n",
    "    \n",
    "# add labels and legend\n",
    "plt.title('Training Loss and Accuracy')\n",
    "plt.xlabel('Epoch #')\n",
    "plt.ylabel('Loss/Accuracy')\n",
    "plt.legend()"
   ]
  },
  {
   "cell_type": "code",
   "execution_count": 12,
   "id": "246325c4-e7cd-44c6-b668-c3db096bc241",
   "metadata": {},
   "outputs": [
    {
     "name": "stdout",
     "output_type": "stream",
     "text": [
      "782/782 [==============================] - 7s 9ms/step - loss: 0.6727 - accuracy: 0.5737\n"
     ]
    },
    {
     "data": {
      "text/plain": [
       "[0.6727234125137329, 0.5736883878707886]"
      ]
     },
     "execution_count": 12,
     "metadata": {},
     "output_type": "execute_result"
    }
   ],
   "source": [
    "model.evaluate(testData)"
   ]
  },
  {
   "cell_type": "code",
   "execution_count": 13,
   "id": "906fb706-6171-43c7-a84d-a766450c32c5",
   "metadata": {},
   "outputs": [
    {
     "name": "stdout",
     "output_type": "stream",
     "text": [
      "Found 25000 files belonging to 2 classes.\n",
      "Found 25000 files belonging to 2 classes.\n",
      "Filter size is 1\n",
      "WARNING:tensorflow:Please add `keras.layers.InputLayer` instead of `keras.Input` to Sequential model. `keras.Input` is intended to be used by Functional model.\n",
      "Model: \"sequential_2\"\n",
      "_________________________________________________________________\n",
      "Layer (type)                 Output Shape              Param #   \n",
      "=================================================================\n",
      "text_vectorization_2 (TextVe (None, 100)               0         \n",
      "_________________________________________________________________\n",
      "embedding_2 (Embedding)      (None, 100, 128)          128128    \n",
      "_________________________________________________________________\n",
      "conv1d_1 (Conv1D)            (None, 100, 64)           8256      \n",
      "_________________________________________________________________\n",
      "dense_5 (Dense)              (None, 100, 64)           4160      \n",
      "_________________________________________________________________\n",
      "dense_6 (Dense)              (None, 100, 1)            65        \n",
      "=================================================================\n",
      "Total params: 140,609\n",
      "Trainable params: 140,609\n",
      "Non-trainable params: 0\n",
      "_________________________________________________________________\n",
      "Epoch 1/3\n",
      "782/782 [==============================] - 9s 11ms/step - loss: 0.6864 - accuracy: 0.5377\n",
      "Epoch 2/3\n",
      "782/782 [==============================] - 9s 11ms/step - loss: 0.6852 - accuracy: 0.5407\n",
      "Epoch 3/3\n",
      "782/782 [==============================] - 9s 11ms/step - loss: 0.6851 - accuracy: 0.5409\n",
      "782/782 [==============================] - 7s 9ms/step - loss: 0.6855 - accuracy: 0.5381\n",
      "Found 25000 files belonging to 2 classes.\n",
      "Found 25000 files belonging to 2 classes.\n",
      "Filter size is 3\n",
      "WARNING:tensorflow:Please add `keras.layers.InputLayer` instead of `keras.Input` to Sequential model. `keras.Input` is intended to be used by Functional model.\n",
      "Model: \"sequential_3\"\n",
      "_________________________________________________________________\n",
      "Layer (type)                 Output Shape              Param #   \n",
      "=================================================================\n",
      "text_vectorization_3 (TextVe (None, 100)               0         \n",
      "_________________________________________________________________\n",
      "embedding_3 (Embedding)      (None, 100, 128)          128128    \n",
      "_________________________________________________________________\n",
      "conv1d_2 (Conv1D)            (None, 100, 64)           24640     \n",
      "_________________________________________________________________\n",
      "dense_7 (Dense)              (None, 100, 64)           4160      \n",
      "_________________________________________________________________\n",
      "dense_8 (Dense)              (None, 100, 1)            65        \n",
      "=================================================================\n",
      "Total params: 156,993\n",
      "Trainable params: 156,993\n",
      "Non-trainable params: 0\n",
      "_________________________________________________________________\n",
      "Epoch 1/3\n",
      "782/782 [==============================] - 9s 11ms/step - loss: 0.6754 - accuracy: 0.5656\n",
      "Epoch 2/3\n",
      "782/782 [==============================] - 9s 11ms/step - loss: 0.6700 - accuracy: 0.5768\n",
      "Epoch 3/3\n",
      "782/782 [==============================] - 9s 11ms/step - loss: 0.6679 - accuracy: 0.5804\n",
      "782/782 [==============================] - 7s 9ms/step - loss: 0.6698 - accuracy: 0.5750\n",
      "Found 25000 files belonging to 2 classes.\n",
      "Found 25000 files belonging to 2 classes.\n",
      "Filter size is 5\n",
      "WARNING:tensorflow:Please add `keras.layers.InputLayer` instead of `keras.Input` to Sequential model. `keras.Input` is intended to be used by Functional model.\n",
      "Model: \"sequential_4\"\n",
      "_________________________________________________________________\n",
      "Layer (type)                 Output Shape              Param #   \n",
      "=================================================================\n",
      "text_vectorization_4 (TextVe (None, 100)               0         \n",
      "_________________________________________________________________\n",
      "embedding_4 (Embedding)      (None, 100, 128)          128128    \n",
      "_________________________________________________________________\n",
      "conv1d_3 (Conv1D)            (None, 100, 64)           41024     \n",
      "_________________________________________________________________\n",
      "dense_9 (Dense)              (None, 100, 64)           4160      \n",
      "_________________________________________________________________\n",
      "dense_10 (Dense)             (None, 100, 1)            65        \n",
      "=================================================================\n",
      "Total params: 173,377\n",
      "Trainable params: 173,377\n",
      "Non-trainable params: 0\n",
      "_________________________________________________________________\n",
      "Epoch 1/3\n",
      "782/782 [==============================] - 9s 11ms/step - loss: 0.6658 - accuracy: 0.5830\n",
      "Epoch 2/3\n",
      "782/782 [==============================] - 9s 11ms/step - loss: 0.6583 - accuracy: 0.5958\n",
      "Epoch 3/3\n",
      "782/782 [==============================] - 9s 11ms/step - loss: 0.6548 - accuracy: 0.6010\n",
      "782/782 [==============================] - 7s 9ms/step - loss: 0.6570 - accuracy: 0.5960\n",
      "Found 25000 files belonging to 2 classes.\n",
      "Found 25000 files belonging to 2 classes.\n",
      "Filter size is 7\n",
      "WARNING:tensorflow:Please add `keras.layers.InputLayer` instead of `keras.Input` to Sequential model. `keras.Input` is intended to be used by Functional model.\n",
      "Model: \"sequential_5\"\n",
      "_________________________________________________________________\n",
      "Layer (type)                 Output Shape              Param #   \n",
      "=================================================================\n",
      "text_vectorization_5 (TextVe (None, 100)               0         \n",
      "_________________________________________________________________\n",
      "embedding_5 (Embedding)      (None, 100, 128)          128128    \n",
      "_________________________________________________________________\n",
      "conv1d_4 (Conv1D)            (None, 100, 64)           57408     \n",
      "_________________________________________________________________\n",
      "dense_11 (Dense)             (None, 100, 64)           4160      \n",
      "_________________________________________________________________\n",
      "dense_12 (Dense)             (None, 100, 1)            65        \n",
      "=================================================================\n",
      "Total params: 189,761\n",
      "Trainable params: 189,761\n",
      "Non-trainable params: 0\n",
      "_________________________________________________________________\n",
      "Epoch 1/3\n",
      "782/782 [==============================] - 9s 12ms/step - loss: 0.6574 - accuracy: 0.5971\n",
      "Epoch 2/3\n",
      "782/782 [==============================] - 9s 11ms/step - loss: 0.6471 - accuracy: 0.6113\n",
      "Epoch 3/3\n",
      "782/782 [==============================] - 9s 11ms/step - loss: 0.6429 - accuracy: 0.6164\n",
      "782/782 [==============================] - 7s 9ms/step - loss: 0.6493 - accuracy: 0.6055\n",
      "Found 25000 files belonging to 2 classes.\n",
      "Found 25000 files belonging to 2 classes.\n",
      "Filter size is 9\n",
      "WARNING:tensorflow:Please add `keras.layers.InputLayer` instead of `keras.Input` to Sequential model. `keras.Input` is intended to be used by Functional model.\n",
      "Model: \"sequential_6\"\n",
      "_________________________________________________________________\n",
      "Layer (type)                 Output Shape              Param #   \n",
      "=================================================================\n",
      "text_vectorization_6 (TextVe (None, 100)               0         \n",
      "_________________________________________________________________\n",
      "embedding_6 (Embedding)      (None, 100, 128)          128128    \n",
      "_________________________________________________________________\n",
      "conv1d_5 (Conv1D)            (None, 100, 64)           73792     \n",
      "_________________________________________________________________\n",
      "dense_13 (Dense)             (None, 100, 64)           4160      \n",
      "_________________________________________________________________\n",
      "dense_14 (Dense)             (None, 100, 1)            65        \n",
      "=================================================================\n",
      "Total params: 206,145\n",
      "Trainable params: 206,145\n",
      "Non-trainable params: 0\n",
      "_________________________________________________________________\n",
      "Epoch 1/3\n",
      "782/782 [==============================] - 9s 11ms/step - loss: 0.6499 - accuracy: 0.6070\n",
      "Epoch 2/3\n",
      "782/782 [==============================] - 9s 11ms/step - loss: 0.6371 - accuracy: 0.6240\n",
      "Epoch 3/3\n",
      "782/782 [==============================] - 9s 11ms/step - loss: 0.6315 - accuracy: 0.6308\n",
      "782/782 [==============================] - 7s 9ms/step - loss: 0.6369 - accuracy: 0.6234\n",
      "Found 25000 files belonging to 2 classes.\n",
      "Found 25000 files belonging to 2 classes.\n",
      "Filter size is 11\n",
      "WARNING:tensorflow:Please add `keras.layers.InputLayer` instead of `keras.Input` to Sequential model. `keras.Input` is intended to be used by Functional model.\n",
      "Model: \"sequential_7\"\n",
      "_________________________________________________________________\n",
      "Layer (type)                 Output Shape              Param #   \n",
      "=================================================================\n",
      "text_vectorization_7 (TextVe (None, 100)               0         \n",
      "_________________________________________________________________\n",
      "embedding_7 (Embedding)      (None, 100, 128)          128128    \n",
      "_________________________________________________________________\n",
      "conv1d_6 (Conv1D)            (None, 100, 64)           90176     \n",
      "_________________________________________________________________\n",
      "dense_15 (Dense)             (None, 100, 64)           4160      \n",
      "_________________________________________________________________\n",
      "dense_16 (Dense)             (None, 100, 1)            65        \n",
      "=================================================================\n",
      "Total params: 222,529\n",
      "Trainable params: 222,529\n",
      "Non-trainable params: 0\n",
      "_________________________________________________________________\n",
      "Epoch 1/3\n",
      "782/782 [==============================] - 9s 11ms/step - loss: 0.6425 - accuracy: 0.6170\n",
      "Epoch 2/3\n",
      "782/782 [==============================] - 9s 11ms/step - loss: 0.6286 - accuracy: 0.6342\n",
      "Epoch 3/3\n",
      "782/782 [==============================] - 9s 11ms/step - loss: 0.6217 - accuracy: 0.6414\n",
      "782/782 [==============================] - 7s 9ms/step - loss: 0.6267 - accuracy: 0.6337\n",
      "Found 25000 files belonging to 2 classes.\n",
      "Found 25000 files belonging to 2 classes.\n",
      "Filter size is 13\n",
      "WARNING:tensorflow:Please add `keras.layers.InputLayer` instead of `keras.Input` to Sequential model. `keras.Input` is intended to be used by Functional model.\n",
      "Model: \"sequential_8\"\n",
      "_________________________________________________________________\n",
      "Layer (type)                 Output Shape              Param #   \n",
      "=================================================================\n",
      "text_vectorization_8 (TextVe (None, 100)               0         \n",
      "_________________________________________________________________\n",
      "embedding_8 (Embedding)      (None, 100, 128)          128128    \n",
      "_________________________________________________________________\n",
      "conv1d_7 (Conv1D)            (None, 100, 64)           106560    \n",
      "_________________________________________________________________\n",
      "dense_17 (Dense)             (None, 100, 64)           4160      \n",
      "_________________________________________________________________\n",
      "dense_18 (Dense)             (None, 100, 1)            65        \n",
      "=================================================================\n",
      "Total params: 238,913\n",
      "Trainable params: 238,913\n",
      "Non-trainable params: 0\n",
      "_________________________________________________________________\n",
      "Epoch 1/3\n",
      "782/782 [==============================] - 9s 11ms/step - loss: 0.6353 - accuracy: 0.6266\n",
      "Epoch 2/3\n",
      "782/782 [==============================] - 9s 11ms/step - loss: 0.6194 - accuracy: 0.6444\n",
      "Epoch 3/3\n",
      "782/782 [==============================] - 9s 11ms/step - loss: 0.6118 - accuracy: 0.6525\n",
      "782/782 [==============================] - 7s 9ms/step - loss: 0.6173 - accuracy: 0.6437\n",
      "Found 25000 files belonging to 2 classes.\n",
      "Found 25000 files belonging to 2 classes.\n",
      "Filter size is 15\n",
      "WARNING:tensorflow:Please add `keras.layers.InputLayer` instead of `keras.Input` to Sequential model. `keras.Input` is intended to be used by Functional model.\n",
      "Model: \"sequential_9\"\n",
      "_________________________________________________________________\n",
      "Layer (type)                 Output Shape              Param #   \n",
      "=================================================================\n",
      "text_vectorization_9 (TextVe (None, 100)               0         \n",
      "_________________________________________________________________\n",
      "embedding_9 (Embedding)      (None, 100, 128)          128128    \n",
      "_________________________________________________________________\n",
      "conv1d_8 (Conv1D)            (None, 100, 64)           122944    \n",
      "_________________________________________________________________\n",
      "dense_19 (Dense)             (None, 100, 64)           4160      \n",
      "_________________________________________________________________\n",
      "dense_20 (Dense)             (None, 100, 1)            65        \n",
      "=================================================================\n",
      "Total params: 255,297\n",
      "Trainable params: 255,297\n",
      "Non-trainable params: 0\n",
      "_________________________________________________________________\n",
      "Epoch 1/3\n",
      "782/782 [==============================] - 10s 12ms/step - loss: 0.6292 - accuracy: 0.6339\n",
      "Epoch 2/3\n",
      "782/782 [==============================] - 9s 12ms/step - loss: 0.6115 - accuracy: 0.6529\n",
      "Epoch 3/3\n",
      "782/782 [==============================] - 9s 12ms/step - loss: 0.6030 - accuracy: 0.6615\n",
      "782/782 [==============================] - 7s 9ms/step - loss: 0.6105 - accuracy: 0.6524\n",
      "Found 25000 files belonging to 2 classes.\n",
      "Found 25000 files belonging to 2 classes.\n",
      "Filter size is 17\n",
      "WARNING:tensorflow:Please add `keras.layers.InputLayer` instead of `keras.Input` to Sequential model. `keras.Input` is intended to be used by Functional model.\n",
      "Model: \"sequential_10\"\n",
      "_________________________________________________________________\n",
      "Layer (type)                 Output Shape              Param #   \n",
      "=================================================================\n",
      "text_vectorization_10 (TextV (None, 100)               0         \n",
      "_________________________________________________________________\n",
      "embedding_10 (Embedding)     (None, 100, 128)          128128    \n",
      "_________________________________________________________________\n",
      "conv1d_9 (Conv1D)            (None, 100, 64)           139328    \n",
      "_________________________________________________________________\n",
      "dense_21 (Dense)             (None, 100, 64)           4160      \n",
      "_________________________________________________________________\n",
      "dense_22 (Dense)             (None, 100, 1)            65        \n",
      "=================================================================\n",
      "Total params: 271,681\n",
      "Trainable params: 271,681\n",
      "Non-trainable params: 0\n",
      "_________________________________________________________________\n",
      "Epoch 1/3\n",
      "782/782 [==============================] - 9s 11ms/step - loss: 0.6233 - accuracy: 0.6403\n",
      "Epoch 2/3\n",
      "782/782 [==============================] - 9s 12ms/step - loss: 0.6042 - accuracy: 0.6606\n",
      "Epoch 3/3\n",
      "782/782 [==============================] - 9s 11ms/step - loss: 0.5949 - accuracy: 0.6691\n",
      "782/782 [==============================] - 7s 9ms/step - loss: 0.6071 - accuracy: 0.6597\n",
      "Found 25000 files belonging to 2 classes.\n",
      "Found 25000 files belonging to 2 classes.\n",
      "Filter size is 19\n",
      "WARNING:tensorflow:Please add `keras.layers.InputLayer` instead of `keras.Input` to Sequential model. `keras.Input` is intended to be used by Functional model.\n",
      "Model: \"sequential_11\"\n",
      "_________________________________________________________________\n",
      "Layer (type)                 Output Shape              Param #   \n",
      "=================================================================\n",
      "text_vectorization_11 (TextV (None, 100)               0         \n",
      "_________________________________________________________________\n",
      "embedding_11 (Embedding)     (None, 100, 128)          128128    \n",
      "_________________________________________________________________\n",
      "conv1d_10 (Conv1D)           (None, 100, 64)           155712    \n",
      "_________________________________________________________________\n",
      "dense_23 (Dense)             (None, 100, 64)           4160      \n",
      "_________________________________________________________________\n",
      "dense_24 (Dense)             (None, 100, 1)            65        \n",
      "=================================================================\n",
      "Total params: 288,065\n",
      "Trainable params: 288,065\n",
      "Non-trainable params: 0\n",
      "_________________________________________________________________\n",
      "Epoch 1/3\n",
      "782/782 [==============================] - 9s 11ms/step - loss: 0.6184 - accuracy: 0.6467\n",
      "Epoch 2/3\n",
      "782/782 [==============================] - 9s 12ms/step - loss: 0.5981 - accuracy: 0.6668\n",
      "Epoch 3/3\n",
      "782/782 [==============================] - 9s 12ms/step - loss: 0.5886 - accuracy: 0.6750\n",
      "782/782 [==============================] - 8s 9ms/step - loss: 0.5969 - accuracy: 0.6658\n"
     ]
    }
   ],
   "source": [
    "for filterSize in range(1,20,2):\n",
    "    # read the directory into memory and clean the text\n",
    "    trainData = prepareData('../data/imdb/train')\n",
    "    testData = prepareData('../data/imdb/test')\n",
    "\n",
    "    # create a TextVectorization layer to turn input string into a sequence of integers,\n",
    "    # each representing one token\n",
    "    maxTokens = 1000\n",
    "    vectorizeLayer = TextVectorization(max_tokens = maxTokens,\n",
    "                                       output_mode = 'int',\n",
    "                                       output_sequence_length = 100)\n",
    "\n",
    "    # adapt() fits the TextVectorization layer to our text dataset. This is when the\n",
    "    # max_tokens most common words (i.e. the vocabulary) are selected.\n",
    "    trainText = trainData.map(lambda text, label: text)\n",
    "\n",
    "    vectorizeLayer.adapt(trainText)\n",
    "    \n",
    "    print('Filter size is', filterSize)\n",
    "    \n",
    "    model = Sequential()\n",
    "\n",
    "    model.add(Input(shape=(1,), dtype = 'string'))\n",
    "\n",
    "    # add layer to the model\n",
    "    model.add(vectorizeLayer)\n",
    "\n",
    "    # add an embedding layer to turn integers into fixed-length vectors\n",
    "    model.add(Embedding(maxTokens + 1, 128))\n",
    "\n",
    "    # add a 1D convolutional layer with 64 filters of length 3\n",
    "    model.add(Conv1D(64, filterSize, padding ='same', activation = 'relu'))\n",
    "\n",
    "    # add a dense layer\n",
    "    model.add(Dense(64, activation = 'relu'))\n",
    "\n",
    "    # add softmax classifier\n",
    "    model.add(Dense(1, activation = 'sigmoid'))\n",
    "    \n",
    "    model.compile(optimizer = 'adam', loss = 'binary_crossentropy', metrics = ['accuracy'])\n",
    "    model.summary()\n",
    "    \n",
    "    model.fit(trainData, epochs = 3)\n",
    "    \n",
    "    model.evaluate(testData)"
   ]
  },
  {
   "cell_type": "code",
   "execution_count": 14,
   "id": "30bb1983-3f39-4341-8dc1-4ed4eef85953",
   "metadata": {},
   "outputs": [],
   "source": [
    "class LeNetReg:\n",
    "    # create the architecture\n",
    "    def build(classes):\n",
    "        # create a feedforward neural net\n",
    "        model = Sequential()\n",
    "\n",
    "        model.add(Input(shape=(1,), dtype = 'string'))\n",
    "        \n",
    "        # add layer to the model\n",
    "        model.add(vectorizeLayer)\n",
    "\n",
    "        # add an embedding layer to turn integers into fixed-length vectors\n",
    "        model.add(Embedding(maxTokens + 1, 128))\n",
    "        \n",
    "        # add a convolutional layer with 20 5x5 filters and a 2x2 max pooling layer\n",
    "        model.add(Conv1D(32, 20, padding = 'same'))\n",
    "        model.add(Activation('relu'))\n",
    "        \n",
    "        #model.add(MaxPooling1D(pool_size = 2, strides = 2))\n",
    "        \n",
    "        # add another convolutional layer with 50 5x5 filters and a 2x2 max pooling layer\n",
    "        model.add(Conv1D(64, 20, padding= 'same'))\n",
    "        model.add(Activation('relu'))\n",
    "        #model.add(MaxPooling1D(pool_size = 2, strides = 2))\n",
    "        \n",
    "        # add another convolutional layer\n",
    "        model.add(Conv1D(128, 20, padding = 'same'))\n",
    "        model.add(Activation('relu'))\n",
    "        \n",
    "        # add a fully-connected layer\n",
    "        model.add(Dense(500))\n",
    "        model.add(Activation('relu'))\n",
    "        model.add(Dropout(0.5))\n",
    "        \n",
    "        # add a softmax classifier\n",
    "        model.add(Dense(classes))\n",
    "        model.add(Activation('sigmoid'))\n",
    "        \n",
    "        # return the constructed model\n",
    "        return model"
   ]
  },
  {
   "cell_type": "code",
   "execution_count": 15,
   "id": "e33abd27-ac9e-45bc-9e64-0046a8cdd413",
   "metadata": {},
   "outputs": [
    {
     "name": "stdout",
     "output_type": "stream",
     "text": [
      "Found 25000 files belonging to 2 classes.\n",
      "Found 25000 files belonging to 2 classes.\n",
      "WARNING:tensorflow:Please add `keras.layers.InputLayer` instead of `keras.Input` to Sequential model. `keras.Input` is intended to be used by Functional model.\n",
      "Model: \"sequential_12\"\n",
      "_________________________________________________________________\n",
      "Layer (type)                 Output Shape              Param #   \n",
      "=================================================================\n",
      "text_vectorization_12 (TextV (None, 100)               0         \n",
      "_________________________________________________________________\n",
      "embedding_12 (Embedding)     (None, 100, 128)          128128    \n",
      "_________________________________________________________________\n",
      "conv1d_11 (Conv1D)           (None, 100, 32)           81952     \n",
      "_________________________________________________________________\n",
      "activation (Activation)      (None, 100, 32)           0         \n",
      "_________________________________________________________________\n",
      "conv1d_12 (Conv1D)           (None, 100, 64)           41024     \n",
      "_________________________________________________________________\n",
      "activation_1 (Activation)    (None, 100, 64)           0         \n",
      "_________________________________________________________________\n",
      "conv1d_13 (Conv1D)           (None, 100, 128)          163968    \n",
      "_________________________________________________________________\n",
      "activation_2 (Activation)    (None, 100, 128)          0         \n",
      "_________________________________________________________________\n",
      "dense_25 (Dense)             (None, 100, 500)          64500     \n",
      "_________________________________________________________________\n",
      "activation_3 (Activation)    (None, 100, 500)          0         \n",
      "_________________________________________________________________\n",
      "dropout (Dropout)            (None, 100, 500)          0         \n",
      "_________________________________________________________________\n",
      "dense_26 (Dense)             (None, 100, 1)            501       \n",
      "_________________________________________________________________\n",
      "activation_4 (Activation)    (None, 100, 1)            0         \n",
      "=================================================================\n",
      "Total params: 480,073\n",
      "Trainable params: 480,073\n",
      "Non-trainable params: 0\n",
      "_________________________________________________________________\n"
     ]
    }
   ],
   "source": [
    "# read the directory into memory and clean the text\n",
    "trainData = prepareData('../data/imdb/train')\n",
    "testData = prepareData('../data/imdb/test')\n",
    "\n",
    "# create a TextVectorization layer to turn input string into a sequence of integers,\n",
    "# each representing one token\n",
    "maxTokens = 1000\n",
    "vectorizeLayer = TextVectorization(max_tokens = maxTokens,\n",
    "                                   output_mode = 'int',\n",
    "                                   output_sequence_length = 100)\n",
    "\n",
    "# adapt() fits the TextVectorization layer to our text dataset. This is when the\n",
    "# max_tokens most common words (i.e. the vocabulary) are selected.\n",
    "trainText = trainData.map(lambda text, label: text)\n",
    "\n",
    "vectorizeLayer.adapt(trainText)\n",
    "\n",
    "model = LeNetReg.build(1)\n",
    "model.compile(optimizer = 'adam', loss = 'binary_crossentropy', metrics = ['accuracy'])\n",
    "model.summary()"
   ]
  },
  {
   "cell_type": "code",
   "execution_count": 16,
   "id": "35e5fdbf-0bf9-43de-a16d-5860e8776c17",
   "metadata": {},
   "outputs": [
    {
     "name": "stdout",
     "output_type": "stream",
     "text": [
      "Epoch 1/10\n",
      "782/782 [==============================] - 18s 22ms/step - loss: 0.5658 - accuracy: 0.6943 - val_loss: 0.5285 - val_accuracy: 0.7257\n",
      "Epoch 2/10\n",
      "782/782 [==============================] - 18s 22ms/step - loss: 0.5075 - accuracy: 0.7464 - val_loss: 0.5369 - val_accuracy: 0.7242\n",
      "Epoch 3/10\n",
      "782/782 [==============================] - 18s 22ms/step - loss: 0.4819 - accuracy: 0.7642 - val_loss: 0.5156 - val_accuracy: 0.7356\n",
      "Epoch 4/10\n",
      "782/782 [==============================] - 18s 23ms/step - loss: 0.4505 - accuracy: 0.7833 - val_loss: 0.5347 - val_accuracy: 0.7319\n",
      "Epoch 5/10\n",
      "782/782 [==============================] - 17s 22ms/step - loss: 0.4136 - accuracy: 0.8069 - val_loss: 0.6468 - val_accuracy: 0.7124\n",
      "Epoch 6/10\n",
      "782/782 [==============================] - 17s 22ms/step - loss: 0.3629 - accuracy: 0.8344 - val_loss: 0.7195 - val_accuracy: 0.7101\n",
      "Epoch 7/10\n",
      "782/782 [==============================] - 17s 22ms/step - loss: 0.2989 - accuracy: 0.8682 - val_loss: 0.8769 - val_accuracy: 0.7105\n",
      "Epoch 8/10\n",
      "782/782 [==============================] - 18s 22ms/step - loss: 0.2330 - accuracy: 0.8996 - val_loss: 1.0290 - val_accuracy: 0.7029\n",
      "Epoch 9/10\n",
      "782/782 [==============================] - 17s 22ms/step - loss: 0.1775 - accuracy: 0.9241 - val_loss: 1.3090 - val_accuracy: 0.6943\n",
      "Epoch 10/10\n",
      "782/782 [==============================] - 17s 22ms/step - loss: 0.1347 - accuracy: 0.9430 - val_loss: 1.5737 - val_accuracy: 0.6976\n"
     ]
    },
    {
     "data": {
      "text/plain": [
       "<matplotlib.legend.Legend at 0x210cabc86a0>"
      ]
     },
     "execution_count": 16,
     "metadata": {},
     "output_type": "execute_result"
    },
    {
     "data": {
      "image/png": "[encoded data removed]",
      "text/plain": [
       "<Figure size 432x288 with 1 Axes>"
      ]
     },
     "metadata": {},
     "output_type": "display_data"
    }
   ],
   "source": [
    "epochs = 10\n",
    "\n",
    "H = model.fit(trainData, validation_data = testData, epochs = epochs)\n",
    "\n",
    "plt.style.use('ggplot')\n",
    "plt.figure()\n",
    "plt.plot(np.arange(0, epochs), H.history['loss'], label = 'train_loss')\n",
    "plt.plot(np.arange(0, epochs), H.history['val_loss'], label = 'val_loss')\n",
    "plt.plot(np.arange(0, epochs), H.history['accuracy'], label = 'train_acc')\n",
    "plt.plot(np.arange(0, epochs), H.history['val_accuracy'], label = 'val_acc')\n",
    "    \n",
    "# add labels and legend\n",
    "plt.title('Training Loss and Accuracy')\n",
    "plt.xlabel('Epoch #')\n",
    "plt.ylabel('Loss/Accuracy')\n",
    "plt.legend()"
   ]
  },
  {
   "cell_type": "code",
   "execution_count": 17,
   "id": "801212ae-0cea-467b-8243-58939a533e08",
   "metadata": {},
   "outputs": [
    {
     "name": "stdout",
     "output_type": "stream",
     "text": [
      "782/782 [==============================] - 8s 10ms/step - loss: 1.5737 - accuracy: 0.6976\n"
     ]
    },
    {
     "data": {
      "text/plain": [
       "[1.5737346410751343, 0.6976348161697388]"
      ]
     },
     "execution_count": 17,
     "metadata": {},
     "output_type": "execute_result"
    }
   ],
   "source": [
    "model.evaluate(testData)"
   ]
  },
  {
   "cell_type": "markdown",
   "id": "152de286-7672-4833-a07b-acd38a2c34c0",
   "metadata": {},
   "source": [
    "#### Recurrent Net Experiments\n",
    "\n",
    "Here, let's try replacing one of the dense layers from the fully-connected net with a fully-connected recurrent layer and see how the results look."
   ]
  },
  {
   "cell_type": "code",
   "execution_count": 3,
   "id": "fed7dfee-9470-484b-ba2b-d9253a3d3b85",
   "metadata": {},
   "outputs": [
    {
     "name": "stdout",
     "output_type": "stream",
     "text": [
      "Found 25000 files belonging to 2 classes.\n",
      "Found 25000 files belonging to 2 classes.\n",
      "WARNING:tensorflow:Please add `keras.layers.InputLayer` instead of `keras.Input` to Sequential model. `keras.Input` is intended to be used by Functional model.\n"
     ]
    }
   ],
   "source": [
    "# read the directory into memory and clean the text\n",
    "trainData = prepareData('../data/imdb/train')\n",
    "testData = prepareData('../data/imdb/test')\n",
    "\n",
    "# create a TextVectorization layer to turn input string into a sequence of integers,\n",
    "# each representing one token\n",
    "maxTokens = 1000\n",
    "vectorizeLayer = TextVectorization(max_tokens = maxTokens,\n",
    "                                   output_mode = 'int',\n",
    "                                   output_sequence_length = 100)\n",
    "\n",
    "# adapt() fits the TextVectorization layer to our text dataset. This is when the\n",
    "# max_tokens most common words (i.e. the vocabulary) are selected.\n",
    "trainText = trainData.map(lambda text, label: text)\n",
    "\n",
    "vectorizeLayer.adapt(trainText)\n",
    "\n",
    "model = Sequential()\n",
    "\n",
    "model.add(Input(shape=(1,), dtype = 'string'))\n",
    "\n",
    "# add layer to the model\n",
    "model.add(vectorizeLayer)\n",
    "\n",
    "# add an embedding layer to turn integers into fixed-length vectors\n",
    "model.add(Embedding(maxTokens + 1, 128))\n",
    "\n",
    "# add a fully-connected recurrent layer\n",
    "model.add(SimpleRNN(64))\n",
    "\n",
    "# add a dense layer\n",
    "model.add(Dense(64, activation = 'relu'))\n",
    "\n",
    "# add softmax classifier\n",
    "model.add(Dense(1, activation = 'sigmoid'))"
   ]
  },
  {
   "cell_type": "code",
   "execution_count": 4,
   "id": "3b0e0bf5-d0b4-43ea-b958-dfc2dbd33119",
   "metadata": {},
   "outputs": [
    {
     "name": "stdout",
     "output_type": "stream",
     "text": [
      "Model: \"sequential\"\n",
      "_________________________________________________________________\n",
      "Layer (type)                 Output Shape              Param #   \n",
      "=================================================================\n",
      "text_vectorization (TextVect (None, 100)               0         \n",
      "_________________________________________________________________\n",
      "embedding (Embedding)        (None, 100, 128)          128128    \n",
      "_________________________________________________________________\n",
      "simple_rnn (SimpleRNN)       (None, 64)                12352     \n",
      "_________________________________________________________________\n",
      "dense (Dense)                (None, 64)                4160      \n",
      "_________________________________________________________________\n",
      "dense_1 (Dense)              (None, 1)                 65        \n",
      "=================================================================\n",
      "Total params: 144,705\n",
      "Trainable params: 144,705\n",
      "Non-trainable params: 0\n",
      "_________________________________________________________________\n"
     ]
    }
   ],
   "source": [
    "model.compile(optimizer = 'adam', loss = 'binary_crossentropy', metrics = ['accuracy'])\n",
    "model.summary()"
   ]
  },
  {
   "cell_type": "code",
   "execution_count": 5,
   "id": "a2c714fc-e9c8-4a20-ade9-2ef3fda1f1d4",
   "metadata": {},
   "outputs": [
    {
     "name": "stdout",
     "output_type": "stream",
     "text": [
      "Epoch 1/10\n",
      "782/782 [==============================] - 114s 145ms/step - loss: 0.6978 - accuracy: 0.5102 - val_loss: 0.6972 - val_accuracy: 0.5200\n",
      "Epoch 2/10\n",
      "782/782 [==============================] - 113s 145ms/step - loss: 0.6846 - accuracy: 0.5514 - val_loss: 0.6564 - val_accuracy: 0.6192\n",
      "Epoch 3/10\n",
      "782/782 [==============================] - 113s 145ms/step - loss: 0.6797 - accuracy: 0.5668 - val_loss: 0.6917 - val_accuracy: 0.5332\n",
      "Epoch 4/10\n",
      "782/782 [==============================] - 113s 145ms/step - loss: 0.6684 - accuracy: 0.5845 - val_loss: 0.6709 - val_accuracy: 0.5812\n",
      "Epoch 5/10\n",
      "782/782 [==============================] - 113s 144ms/step - loss: 0.6670 - accuracy: 0.5881 - val_loss: 0.6932 - val_accuracy: 0.5436\n",
      "Epoch 6/10\n",
      "782/782 [==============================] - 112s 144ms/step - loss: 0.6731 - accuracy: 0.5656 - val_loss: 0.7054 - val_accuracy: 0.5326\n",
      "Epoch 7/10\n",
      "782/782 [==============================] - 113s 144ms/step - loss: 0.6579 - accuracy: 0.5914 - val_loss: 0.6939 - val_accuracy: 0.5665\n",
      "Epoch 8/10\n",
      "782/782 [==============================] - 113s 145ms/step - loss: 0.6348 - accuracy: 0.6339 - val_loss: 0.6870 - val_accuracy: 0.5985\n",
      "Epoch 9/10\n",
      "782/782 [==============================] - 113s 145ms/step - loss: 0.6319 - accuracy: 0.6281 - val_loss: 0.6451 - val_accuracy: 0.6213\n",
      "Epoch 10/10\n",
      "782/782 [==============================] - 113s 144ms/step - loss: 0.6371 - accuracy: 0.6244 - val_loss: 0.6935 - val_accuracy: 0.5422\n"
     ]
    },
    {
     "data": {
      "text/plain": [
       "<matplotlib.legend.Legend at 0x1d6dc2e1ee0>"
      ]
     },
     "execution_count": 5,
     "metadata": {},
     "output_type": "execute_result"
    },
    {
     "data": {
      "image/png": "[encoded data removed]",
      "text/plain": [
       "<Figure size 432x288 with 1 Axes>"
      ]
     },
     "metadata": {},
     "output_type": "display_data"
    }
   ],
   "source": [
    "epochs = 10\n",
    "\n",
    "H = model.fit(trainData, validation_data = testData, epochs = epochs)\n",
    "\n",
    "plt.style.use('ggplot')\n",
    "plt.figure()\n",
    "plt.plot(np.arange(0, epochs), H.history['loss'], label = 'train_loss')\n",
    "plt.plot(np.arange(0, epochs), H.history['val_loss'], label = 'val_loss')\n",
    "plt.plot(np.arange(0, epochs), H.history['accuracy'], label = 'train_acc')\n",
    "plt.plot(np.arange(0, epochs), H.history['val_accuracy'], label = 'val_acc')\n",
    "    \n",
    "# add labels and legend\n",
    "plt.title('Training Loss and Accuracy')\n",
    "plt.xlabel('Epoch #')\n",
    "plt.ylabel('Loss/Accuracy')\n",
    "plt.legend()"
   ]
  },
  {
   "cell_type": "code",
   "execution_count": 6,
   "id": "1e0da3f7-0218-430e-9450-accef0efa872",
   "metadata": {},
   "outputs": [
    {
     "name": "stdout",
     "output_type": "stream",
     "text": [
      "782/782 [==============================] - 17s 22ms/step - loss: 0.6935 - accuracy: 0.5422\n"
     ]
    },
    {
     "data": {
      "text/plain": [
       "[0.6935092210769653, 0.5422000288963318]"
      ]
     },
     "execution_count": 6,
     "metadata": {},
     "output_type": "execute_result"
    }
   ],
   "source": [
    "model.evaluate(testData)"
   ]
  },
  {
   "cell_type": "markdown",
   "id": "5be6711f-84cc-4edf-939b-5e385f7fade1",
   "metadata": {},
   "source": [
    "As we see, the results are a little better than the fully connected net, but does not perform as well as some of the CNN experiments above."
   ]
  },
  {
   "cell_type": "code",
   "execution_count": 7,
   "id": "3bc9f207-60e3-4bd0-ab20-7bc70bae3150",
   "metadata": {},
   "outputs": [
    {
     "name": "stdout",
     "output_type": "stream",
     "text": [
      "Found 25000 files belonging to 2 classes.\n",
      "Found 25000 files belonging to 2 classes.\n",
      "WARNING:tensorflow:Please add `keras.layers.InputLayer` instead of `keras.Input` to Sequential model. `keras.Input` is intended to be used by Functional model.\n"
     ]
    }
   ],
   "source": [
    "# read the directory into memory and clean the text\n",
    "trainData = prepareData('../data/imdb/train')\n",
    "testData = prepareData('../data/imdb/test')\n",
    "\n",
    "# create a TextVectorization layer to turn input string into a sequence of integers,\n",
    "# each representing one token\n",
    "maxTokens = 1000\n",
    "vectorizeLayer = TextVectorization(max_tokens = maxTokens,\n",
    "                                   output_mode = 'int',\n",
    "                                   output_sequence_length = 100)\n",
    "\n",
    "# adapt() fits the TextVectorization layer to our text dataset. This is when the\n",
    "# max_tokens most common words (i.e. the vocabulary) are selected.\n",
    "trainText = trainData.map(lambda text, label: text)\n",
    "\n",
    "vectorizeLayer.adapt(trainText)\n",
    "\n",
    "model = Sequential()\n",
    "\n",
    "model.add(Input(shape=(1,), dtype = 'string'))\n",
    "\n",
    "# add layer to the model\n",
    "model.add(vectorizeLayer)\n",
    "\n",
    "# add an embedding layer to turn integers into fixed-length vectors\n",
    "model.add(Embedding(maxTokens + 1, 128))\n",
    "\n",
    "# add a fully-connected recurrent layer\n",
    "model.add(Bidirectional(SimpleRNN(64)))\n",
    "\n",
    "# add a dense layer\n",
    "model.add(Dense(64, activation = 'relu'))\n",
    "\n",
    "# add softmax classifier\n",
    "model.add(Dense(1, activation = 'sigmoid'))"
   ]
  },
  {
   "cell_type": "code",
   "execution_count": 8,
   "id": "ae1bea3d-67cd-4b32-9e2a-dcbe04a5cf14",
   "metadata": {},
   "outputs": [
    {
     "name": "stdout",
     "output_type": "stream",
     "text": [
      "Model: \"sequential_1\"\n",
      "_________________________________________________________________\n",
      "Layer (type)                 Output Shape              Param #   \n",
      "=================================================================\n",
      "text_vectorization_1 (TextVe (None, 100)               0         \n",
      "_________________________________________________________________\n",
      "embedding_1 (Embedding)      (None, 100, 128)          128128    \n",
      "_________________________________________________________________\n",
      "bidirectional (Bidirectional (None, 128)               24704     \n",
      "_________________________________________________________________\n",
      "dense_2 (Dense)              (None, 64)                8256      \n",
      "_________________________________________________________________\n",
      "dense_3 (Dense)              (None, 1)                 65        \n",
      "=================================================================\n",
      "Total params: 161,153\n",
      "Trainable params: 161,153\n",
      "Non-trainable params: 0\n",
      "_________________________________________________________________\n",
      "Epoch 1/10\n",
      "782/782 [==============================] - 210s 267ms/step - loss: 0.6951 - accuracy: 0.5205 - val_loss: 0.6827 - val_accuracy: 0.5532\n",
      "Epoch 2/10\n",
      "782/782 [==============================] - 209s 267ms/step - loss: 0.6537 - accuracy: 0.6076 - val_loss: 0.6825 - val_accuracy: 0.5652\n",
      "Epoch 3/10\n",
      "782/782 [==============================] - 210s 268ms/step - loss: 0.6411 - accuracy: 0.6268 - val_loss: 0.6082 - val_accuracy: 0.6695\n",
      "Epoch 4/10\n",
      "782/782 [==============================] - 209s 267ms/step - loss: 0.5909 - accuracy: 0.6861 - val_loss: 0.5550 - val_accuracy: 0.7251\n",
      "Epoch 5/10\n",
      "782/782 [==============================] - 210s 269ms/step - loss: 0.6067 - accuracy: 0.6741 - val_loss: 0.5953 - val_accuracy: 0.6935\n",
      "Epoch 6/10\n",
      "782/782 [==============================] - 210s 269ms/step - loss: 0.5682 - accuracy: 0.7119 - val_loss: 0.5731 - val_accuracy: 0.7138\n",
      "Epoch 7/10\n",
      "782/782 [==============================] - 209s 267ms/step - loss: 0.5861 - accuracy: 0.6979 - val_loss: 0.5946 - val_accuracy: 0.6866\n",
      "Epoch 8/10\n",
      "782/782 [==============================] - 210s 268ms/step - loss: 0.5697 - accuracy: 0.7119 - val_loss: 0.5693 - val_accuracy: 0.7098\n",
      "Epoch 9/10\n",
      "782/782 [==============================] - 210s 269ms/step - loss: 0.5588 - accuracy: 0.7141 - val_loss: 0.5921 - val_accuracy: 0.6775\n",
      "Epoch 10/10\n",
      "782/782 [==============================] - 210s 269ms/step - loss: 0.5401 - accuracy: 0.7315 - val_loss: 0.5461 - val_accuracy: 0.7264\n",
      "782/782 [==============================] - 28s 36ms/step - loss: 0.5461 - accuracy: 0.7264\n"
     ]
    },
    {
     "data": {
      "text/plain": [
       "[0.5461174845695496, 0.7264400124549866]"
      ]
     },
     "execution_count": 8,
     "metadata": {},
     "output_type": "execute_result"
    },
    {
     "data": {
      "image/png": "[encoded data removed]",
      "text/plain": [
       "<Figure size 432x288 with 1 Axes>"
      ]
     },
     "metadata": {},
     "output_type": "display_data"
    }
   ],
   "source": [
    "model.compile(optimizer = 'adam', loss = 'binary_crossentropy', metrics = ['accuracy'])\n",
    "model.summary()\n",
    "\n",
    "epochs = 10\n",
    "\n",
    "H = model.fit(trainData, validation_data = testData, epochs = epochs)\n",
    "\n",
    "plt.style.use('ggplot')\n",
    "plt.figure()\n",
    "plt.plot(np.arange(0, epochs), H.history['loss'], label = 'train_loss')\n",
    "plt.plot(np.arange(0, epochs), H.history['val_loss'], label = 'val_loss')\n",
    "plt.plot(np.arange(0, epochs), H.history['accuracy'], label = 'train_acc')\n",
    "plt.plot(np.arange(0, epochs), H.history['val_accuracy'], label = 'val_acc')\n",
    "    \n",
    "# add labels and legend\n",
    "plt.title('Training Loss and Accuracy')\n",
    "plt.xlabel('Epoch #')\n",
    "plt.ylabel('Loss/Accuracy')\n",
    "plt.legend()\n",
    "\n",
    "model.evaluate(testData)"
   ]
  },
  {
   "cell_type": "code",
   "execution_count": 9,
   "id": "2e47666c-2776-4f32-9a7a-8a24587d5841",
   "metadata": {},
   "outputs": [
    {
     "name": "stdout",
     "output_type": "stream",
     "text": [
      "[[0.05329067]]\n",
      "[[0.54913616]]\n",
      "[[0.87241584]]\n",
      "[[0.8720228]]\n",
      "[[0.74671763]]\n"
     ]
    }
   ],
   "source": [
    "print(model.predict(['Watching this film was the worst experience of my life and I would rather die than watch it again.']))\n",
    "\n",
    "print(model.predict(['The acting is only okay in this movie, but it has an amazing storyline, so I rate it as good but not great.']))\n",
    "\n",
    "print(model.predict(['Dodgeball is my brother\\'s favorite movie, but I hate it']))\n",
    "\n",
    "print(model.predict(['Dodgeball is my brother\\'s favorite movie and it has its moments, but I think the comedy is sophomoric and crude. The acting is great, but the writing is subpar. Overall, I would rate this movie 2/10. It is terrible.']))\n",
    "\n",
    "print(model.predict(['I love Nicholas Cage, but this movie is horrible. NOT THE BEES.']))"
   ]
  },
  {
   "cell_type": "code",
   "execution_count": 27,
   "id": "ba9c6683-b3cd-4f2b-9666-4391d18c050d",
   "metadata": {},
   "outputs": [],
   "source": [
    "# delete the unzipped imdb dataset (this is just so I can upload to GitHub)\n",
    "if os.path.isfile('../data/imdb/README'):\n",
    "    shutil.rmtree('../data/imdb')"
   ]
  }
 ],
 "metadata": {
  "kernelspec": {
   "display_name": "Python 3 (ipykernel)",
   "language": "python",
   "name": "python3"
  },
  "language_info": {
   "codemirror_mode": {
    "name": "ipython",
    "version": 3
   },
   "file_extension": ".py",
   "mimetype": "text/x-python",
   "name": "python",
   "nbconvert_exporter": "python",
   "pygments_lexer": "ipython3",
   "version": "3.9.16"
  }
 },
 "nbformat": 4,
 "nbformat_minor": 5
}
