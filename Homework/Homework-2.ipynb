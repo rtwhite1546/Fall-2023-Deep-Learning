{
 "cells": [
  {
   "cell_type": "markdown",
   "id": "e5eaca6a-9170-407f-a4c2-4f08a0736b15",
   "metadata": {
    "tags": []
   },
   "source": [
    "# MTH 4320 / 5320 - Homework 2\n",
    "\n",
    "## Dense Neural Networks and Keras\n",
    "\n",
    "**Deadline**: Oct 2\n",
    "\n",
    "**Points**: 50\n",
    "\n",
    "### Instructions\n",
    "\n",
    "Submit **one** Python notebook file for grading. Your file must include **text explanations** of your work, **well-commented code**, and the **outputs** from your code.\n",
    "\n",
    "### Problems\n",
    "\n",
    "#### Gradients\n",
    "\n",
    "1. [10 points] Consider a single neuron with 3 inputs and PReLU activation function. Find the mathematical formula for the gradient of the activated output with respect to its incoming weights **and** the learnable PReLU parameter.\n",
    "\n",
    "#### Dense Neural Networks\n",
    "\n",
    "2. [40 points]. Use a feedforward NN with SGD to classify the CIFAR-10 dataset, and tune its hyperparameters as best you can. **You must use Keras or PyTorch**. Requirements below.\n",
    "\n",
    "Randomly split the dataset into 60\\%/20/\\%/20\\% training/validation/testing sets. When tuning hyperparameters, test on the validation set. After you find the best hyperparameters, run your code **once** with these settings on the test. Use `random_state = 1` before splitting data.\n",
    "\n",
    "Start with a 1-node classifier as a benchmark.\n",
    "\n",
    "You must run **at least one experiment** using all major techniques (5 points each):\n",
    "\n",
    "* Normalization/Standardization\n",
    "* Weight Initialization\n",
    "* Architectures\n",
    "* Activation functions\n",
    "* Loss functions\n",
    "* Regularization (must include dropout)\n",
    "\n",
    "**For each experiment, document why you chose to run this experiment, training accuracy/loss, validation accuracy/loss, epoch number with best validation accuracy (see the `EarlyStopping` callback), and training runtime.**\n",
    "\n",
    "Training takes significant time, so brute force is *not* feasible. Make *informed decisions* on how to proceed and write your reasoning in your report. Include all fruitful experiments you run along the way. More importantly than the results, I want to see that you are *thinking well* and making good decisions. Good results will come from eventually if you *understand what you are doing*.\n",
    "\n",
    "**Explanations and reasoning for your progression = [10 points]**\n",
    "\n",
    "**Recommended:** Use small training sets for your initial tests so it works more quickly and then scale up when you results get better.\n",
    "\n",
    "**Bonus:** Top 3 highest classification accuracy submissions earn +5 points."
   ]
  },
  {
   "cell_type": "code",
   "execution_count": null,
   "id": "046f3163-7105-47df-ac45-9233975ba607",
   "metadata": {},
   "outputs": [],
   "source": []
  }
 ],
 "metadata": {
  "kernelspec": {
   "display_name": "Python 3 (ipykernel)",
   "language": "python",
   "name": "python3"
  },
  "language_info": {
   "codemirror_mode": {
    "name": "ipython",
    "version": 3
   },
   "file_extension": ".py",
   "mimetype": "text/x-python",
   "name": "python",
   "nbconvert_exporter": "python",
   "pygments_lexer": "ipython3",
   "version": "3.10.9"
  }
 },
 "nbformat": 4,
 "nbformat_minor": 5
}
