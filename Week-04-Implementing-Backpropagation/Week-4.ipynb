{
 "cells": [
  {
   "cell_type": "markdown",
   "metadata": {},
   "source": [
    "# Week 4\n",
    "\n",
    "# Lecture 8 - Implementing Backpropagation\n",
    "\n",
    "Below, we implement a fully-connected feedforward neural network with random weight initialization, customizable architecture, and gradient descent with use of backpropagation for computing the gradients. We will then test it on some examples.\n",
    "\n",
    "The best way to understand how this all works is to actually implement it with minimal external libraries. One exception is `NumPy`, which at least automates some of the basic mathematical operations we need to do."
   ]
  },
  {
   "cell_type": "code",
   "execution_count": 3,
   "metadata": {},
   "outputs": [],
   "source": [
    "import numpy as np"
   ]
  },
  {
   "cell_type": "markdown",
   "metadata": {},
   "source": [
    "Next, we will implement the feedforward neural network. The code is partly based on an implementation from *Deep Learning for Computer Vision with Python* by Adrian Rosebrock."
   ]
  },
  {
   "cell_type": "code",
   "execution_count": 4,
   "metadata": {},
   "outputs": [],
   "source": [
    "class FeedforwardNeuralNetwork:\n",
    "    \n",
    "    # input a vector [a, b, c, ...] with the number of nodes in each layer\n",
    "    def __init__(self, layers, alpha = 0.1):\n",
    "        \n",
    "        # list of weight matrices between layers\n",
    "        self.W = []\n",
    "        \n",
    "        # network architecture will be a vector of numbers of nodes for each layer\n",
    "        self.layers = layers\n",
    "        \n",
    "        # learning rate\n",
    "        self.alpha = alpha\n",
    "        \n",
    "        # initialize the weights (randomly) -- this is our initial guess for gradient descent\n",
    "        \n",
    "        # initialize the weights between layers (up to the next-to-last one) as normal random variables\n",
    "        for i in np.arange(0, len(layers) - 2):\n",
    "            self.W.append(np.random.randn(layers[i] + 1, layers[i + 1] + 1))\n",
    "            \n",
    "        # initialize weights between the last two layers (we don't want bias for the last one)\n",
    "        self.W.append(np.random.randn(layers[-2] + 1, layers[-1]))\n",
    "        \n",
    "    # define the sigmoid activation\n",
    "    def sigmoid(self, x):\n",
    "        return 1.0 / (1 + np.exp(-x))\n",
    "    \n",
    "    # define the sigmoid derivative (where z is the output of a sigmoid)\n",
    "    def sigmoidDerivative(self, z):\n",
    "        return z * (1 - z)\n",
    "    \n",
    "    # fit the model\n",
    "    def fit(self, X, y, epochs = 10000, update = 1000):\n",
    "        # add a column of ones to the end of X\n",
    "        X = np.hstack((X, np.ones([X.shape[0],1])))\n",
    "\n",
    "        for epoch in np.arange(0,epochs):\n",
    "\n",
    "            # feed forward, backprop, and weight update\n",
    "            for (x, target) in zip(X, y):\n",
    "                \n",
    "                # make a list of output activations from the first layer\n",
    "                # (just the original x values)\n",
    "                A = [np.atleast_2d(x)]\n",
    "                \n",
    "                # feed forward\n",
    "                for layer in np.arange(0, len(self.W)):\n",
    "                    \n",
    "                    # feed through one layer and apply sigmoid activation\n",
    "                    net = A[layer].dot(self.W[layer])\n",
    "                    out = self.sigmoid(net)\n",
    "                    \n",
    "                    # add our network output to the list of activations\n",
    "                    A.append(out)\n",
    "                    \n",
    "                # backpropagation\n",
    "                error = A[-1] - target\n",
    "                \n",
    "                # term proportional to the gradient\n",
    "                D = [error * self.sigmoidDerivative(A[-1])]\n",
    "                \n",
    "                # loop backwards over the layers to build up deltas\n",
    "                for layer in np.arange(len(A) - 2, 0, -1):\n",
    "                    delta = D[-1].dot(self.W[layer].T)\n",
    "                    delta = delta * self.sigmoidDerivative(A[layer])\n",
    "                    D.append(delta)\n",
    "                    \n",
    "                # reverse the deltas since we looped in reverse\n",
    "                D = D[::-1]\n",
    "                \n",
    "                # weight update\n",
    "                for layer in np.arange(0, len(self.W)):\n",
    "                    self.W[layer] -= self.alpha * A[layer].T.dot(D[layer])\n",
    "                    \n",
    "            # print a status update\n",
    "            if (epoch + 1) % update == 0:\n",
    "                loss = self.computeLoss(X,y)\n",
    "                print('Epoch =', epoch + 1, 'loss = ', loss)\n",
    "                \n",
    "    def predict(self, X, addOnes = True):\n",
    "        # initialize data, be sure it's the right dimension\n",
    "        p = np.atleast_2d(X)\n",
    "        \n",
    "        # add a column of 1s for bias\n",
    "        if addOnes:\n",
    "            p = np.hstack((p, np.ones([X.shape[0],1])))\n",
    "        \n",
    "        # feed forward!\n",
    "        for layer in np.arange(0, len(self.W)):\n",
    "            p = self.sigmoid(np.dot(p, self.W[layer]))\n",
    "         \n",
    "        # return the predictions\n",
    "        return p\n",
    "    \n",
    "    def computeLoss(self, X, y):\n",
    "        # initialize data, be sure it's the right dimension\n",
    "        y = np.atleast_2d(y)\n",
    "        \n",
    "        # feed the datapoints through the network to get predicted outputs\n",
    "        predictions = self.predict(X, addOnes = False)\n",
    "        \n",
    "        # compute the sum of squared errors loss function\n",
    "        loss = np.sum((predictions - y)**2) / 2.0\n",
    "        \n",
    "        return loss"
   ]
  },
  {
   "cell_type": "markdown",
   "metadata": {},
   "source": [
    "Let's check the variables of the model."
   ]
  },
  {
   "cell_type": "code",
   "execution_count": 3,
   "metadata": {},
   "outputs": [
    {
     "data": {
      "text/plain": [
       "{'W': [array([[ 1.06393045, -0.72605639, -0.15772808],\n",
       "         [ 1.98450314,  0.87914522, -0.62183604],\n",
       "         [-0.265093  , -0.00338343, -0.01194419]]),\n",
       "  array([[-1.41855291],\n",
       "         [-0.50649455],\n",
       "         [-0.43374157]])],\n",
       " 'layers': [2, 2, 1],\n",
       " 'alpha': 0.1}"
      ]
     },
     "execution_count": 3,
     "metadata": {},
     "output_type": "execute_result"
    }
   ],
   "source": [
    "model = FeedforwardNeuralNetwork([2, 2, 1])\n",
    "vars(model)"
   ]
  },
  {
   "cell_type": "markdown",
   "metadata": {},
   "source": [
    "## Example: XOR function\n",
    "\n",
    "Let's run the code to try to learn the exclusive 'or' function, i.e. XOR."
   ]
  },
  {
   "cell_type": "code",
   "execution_count": 7,
   "metadata": {},
   "outputs": [
    {
     "name": "stdout",
     "output_type": "stream",
     "text": [
      "Epoch = 1000 loss =  0.00030659549348088474\n",
      "Epoch = 2000 loss =  0.00030445567894294464\n",
      "Epoch = 3000 loss =  0.000302345303558614\n",
      "Epoch = 4000 loss =  0.00030026376628593666\n",
      "Epoch = 5000 loss =  0.00029821048229387414\n",
      "Epoch = 6000 loss =  0.0002961848824202817\n",
      "Epoch = 7000 loss =  0.0002941864126516504\n",
      "Epoch = 8000 loss =  0.00029221453362323247\n",
      "Epoch = 9000 loss =  0.00029026872013894635\n",
      "Epoch = 10000 loss =  0.00028834846070990643\n",
      "Epoch = 11000 loss =  0.0002864532571109678\n",
      "Epoch = 12000 loss =  0.00028458262395422544\n",
      "Epoch = 13000 loss =  0.00028273608827894406\n",
      "Epoch = 14000 loss =  0.000280913189157027\n",
      "Epoch = 15000 loss =  0.0002791134773134332\n",
      "Epoch = 16000 loss =  0.00027733651476085904\n",
      "Epoch = 17000 loss =  0.00027558187444799893\n",
      "Epoch = 18000 loss =  0.00027384913992098474\n",
      "Epoch = 19000 loss =  0.00027213790499716324\n",
      "Epoch = 20000 loss =  0.0002704477734509301\n",
      "Epoch = 21000 loss =  0.0002687783587109968\n",
      "Epoch = 22000 loss =  0.00026712928356858984\n",
      "Epoch = 23000 loss =  0.00026550017989619484\n",
      "Epoch = 24000 loss =  0.00026389068837634255\n",
      "Epoch = 25000 loss =  0.00026230045824004447\n",
      "Epoch = 26000 loss =  0.0002607291470145124\n",
      "Epoch = 27000 loss =  0.00025917642027969236\n",
      "Epoch = 28000 loss =  0.000257641951433363\n",
      "Epoch = 29000 loss =  0.000256125421464374\n",
      "Epoch = 30000 loss =  0.0002546265187337298\n",
      "Epoch = 31000 loss =  0.00025314493876320244\n",
      "Epoch = 32000 loss =  0.00025168038403114597\n",
      "Epoch = 33000 loss =  0.00025023256377527454\n",
      "Epoch = 34000 loss =  0.00024880119380209074\n",
      "Epoch = 35000 loss =  0.00024738599630270947\n",
      "Epoch = 36000 loss =  0.0002459866996748731\n",
      "Epoch = 37000 loss =  0.00024460303835082623\n",
      "Epoch = 38000 loss =  0.0002432347526309265\n",
      "Epoch = 39000 loss =  0.0002418815885227024\n",
      "Epoch = 40000 loss =  0.00024054329758517034\n",
      "Epoch = 41000 loss =  0.00023921963677823636\n",
      "Epoch = 42000 loss =  0.00023791036831692734\n",
      "Epoch = 43000 loss =  0.00023661525953036397\n",
      "Epoch = 44000 loss =  0.0002353340827251995\n",
      "Epoch = 45000 loss =  0.00023406661505343955\n",
      "Epoch = 46000 loss =  0.00023281263838444382\n",
      "Epoch = 47000 loss =  0.00023157193918089502\n",
      "Epoch = 48000 loss =  0.00023034430837877998\n",
      "Epoch = 49000 loss =  0.0002291295412709957\n",
      "Epoch = 50000 loss =  0.00022792743739463852\n"
     ]
    }
   ],
   "source": [
    "import random\n",
    "\n",
    "X = np.array([[0, 0], [0, 1], [1, 0], [1, 1]])\n",
    "y = np.array([[0], [1], [1], [0]])\n",
    "\n",
    "model.fit(X,y,50000,1000)"
   ]
  },
  {
   "cell_type": "code",
   "execution_count": 8,
   "metadata": {},
   "outputs": [
    {
     "data": {
      "text/plain": [
       "array([[0.00251118],\n",
       "       [0.98844988],\n",
       "       [0.98857744],\n",
       "       [0.01362603]])"
      ]
     },
     "execution_count": 8,
     "metadata": {},
     "output_type": "execute_result"
    }
   ],
   "source": [
    "model.predict(X)"
   ]
  },
  {
   "cell_type": "markdown",
   "metadata": {},
   "source": [
    "Note these are very close to 0, 1, 1, 0 -- the correct classifications for the XOR function. This neural net can classify this nonlinear problem of XOR."
   ]
  },
  {
   "cell_type": "markdown",
   "metadata": {},
   "source": [
    "## Example: Tiny MNIST"
   ]
  },
  {
   "cell_type": "code",
   "execution_count": 5,
   "metadata": {},
   "outputs": [],
   "source": [
    "# load some more libraries\n",
    "from sklearn.model_selection import train_test_split\n",
    "from sklearn.metrics import classification_report\n",
    "from sklearn import datasets\n",
    "from tensorflow.keras.utils import to_categorical"
   ]
  },
  {
   "cell_type": "markdown",
   "metadata": {},
   "source": [
    "Let's try to classify a tiny version of the MNIST data shrunk down to 8-by-8 pixel images."
   ]
  },
  {
   "cell_type": "code",
   "execution_count": 6,
   "metadata": {},
   "outputs": [
    {
     "name": "stdout",
     "output_type": "stream",
     "text": [
      "Samples: 1797, Dimension: 64\n",
      "Epoch = 100 loss =  32.0392636346301\n",
      "Epoch = 200 loss =  16.239469112021837\n",
      "Epoch = 300 loss =  13.220931252698756\n",
      "Epoch = 400 loss =  26.186927661632634\n",
      "Epoch = 500 loss =  10.490969306957378\n",
      "Epoch = 600 loss =  10.616548138184777\n",
      "Epoch = 700 loss =  9.87329686035616\n",
      "Epoch = 800 loss =  8.762272774118959\n",
      "Epoch = 900 loss =  8.44671478310083\n",
      "Epoch = 1000 loss =  8.228648669813563\n",
      "Training set accuracy\n",
      "              precision    recall  f1-score   support\n",
      "\n",
      "           0       1.00      1.00      1.00       131\n",
      "           1       0.97      0.99      0.98       131\n",
      "           2       1.00      1.00      1.00       136\n",
      "           3       1.00      0.99      1.00       134\n",
      "           4       1.00      0.99      0.99       143\n",
      "           5       0.99      0.99      0.99       129\n",
      "           6       1.00      1.00      1.00       129\n",
      "           7       1.00      1.00      1.00       139\n",
      "           8       0.97      0.98      0.97       138\n",
      "           9       0.99      0.99      0.99       137\n",
      "\n",
      "    accuracy                           0.99      1347\n",
      "   macro avg       0.99      0.99      0.99      1347\n",
      "weighted avg       0.99      0.99      0.99      1347\n",
      "\n",
      "Test set accuracy\n",
      "              precision    recall  f1-score   support\n",
      "\n",
      "           0       0.96      0.98      0.97        47\n",
      "           1       1.00      0.90      0.95        51\n",
      "           2       0.93      1.00      0.96        41\n",
      "           3       0.98      0.94      0.96        49\n",
      "           4       0.94      0.89      0.92        38\n",
      "           5       0.98      0.92      0.95        53\n",
      "           6       0.95      1.00      0.97        52\n",
      "           7       1.00      0.93      0.96        40\n",
      "           8       0.80      0.97      0.88        36\n",
      "           9       0.95      0.95      0.95        43\n",
      "\n",
      "    accuracy                           0.95       450\n",
      "   macro avg       0.95      0.95      0.95       450\n",
      "weighted avg       0.95      0.95      0.95       450\n",
      "\n"
     ]
    }
   ],
   "source": [
    "### CLASSIFY MNIST PICTURES\n",
    "\n",
    "# 'digits' is a tiny version of MNIST in sklearn.datasets has only 8 x 8 pixels\n",
    "# with grayscale values from 0 to 16\n",
    "digits = datasets.load_digits()\n",
    "data = digits.data.astype(\"float\")\n",
    "print(\"Samples: {}, Dimension: {}\".format(data.shape[0], data.shape[1]))\n",
    "\n",
    "X = data\n",
    "\n",
    "Y = digits.target\n",
    "\n",
    "# randomly choose 75% of the data to be the training set and 25% for the testing set\n",
    "trainX, testX, trainY, testY = train_test_split(X, Y, test_size = 0.25)\n",
    "\n",
    "# we need to turn the labels into 1-hot representations\n",
    "trainY = to_categorical(trainY)\n",
    "testY = to_categorical(testY)\n",
    "\n",
    "# fit the model to the training data\n",
    "model = FeedforwardNeuralNetwork([64, 16, 10])\n",
    "model.fit(trainX, trainY, 1000, 100)\n",
    "\n",
    "# print the classification performance\n",
    "print(\"Training set accuracy\")\n",
    "\n",
    "predictedY = model.predict(trainX)\n",
    "predictedY = predictedY.argmax(axis=1)\n",
    "\n",
    "trainY = trainY.argmax(axis=1)\n",
    "\n",
    "print(classification_report(trainY, predictedY))\n",
    "\n",
    "print(\"Test set accuracy\")\n",
    "\n",
    "predictedY = model.predict(testX)\n",
    "predictedY = predictedY.argmax(axis=1)\n",
    "\n",
    "testY = testY.argmax(axis=1)\n",
    "\n",
    "print(classification_report(testY, predictedY))"
   ]
  },
  {
   "cell_type": "markdown",
   "metadata": {},
   "source": [
    "Let's try the same with two hidden layers."
   ]
  },
  {
   "cell_type": "code",
   "execution_count": 11,
   "metadata": {},
   "outputs": [
    {
     "name": "stdout",
     "output_type": "stream",
     "text": [
      "Samples: 1797, Dimension: 64\n",
      "Epoch = 10 loss =  87.22375141012986\n",
      "Epoch = 20 loss =  40.547515868419474\n",
      "Epoch = 30 loss =  25.745577390954736\n",
      "Epoch = 40 loss =  18.57644584988658\n",
      "Epoch = 50 loss =  14.50841094433839\n",
      "Epoch = 60 loss =  11.874756757511788\n",
      "Epoch = 70 loss =  9.886762865030889\n",
      "Epoch = 80 loss =  7.859869991230228\n",
      "Epoch = 90 loss =  6.069643611056056\n",
      "Epoch = 100 loss =  4.997895500859883\n",
      "Epoch = 110 loss =  4.323327346573425\n",
      "Epoch = 120 loss =  3.8404375994661804\n",
      "Epoch = 130 loss =  3.466471276221871\n",
      "Epoch = 140 loss =  3.1563309144822\n",
      "Epoch = 150 loss =  2.8879149934820614\n",
      "Epoch = 160 loss =  2.6580414630146496\n",
      "Epoch = 170 loss =  2.463232762705699\n",
      "Epoch = 180 loss =  2.279407932477253\n",
      "Epoch = 190 loss =  2.161583700596291\n",
      "Epoch = 200 loss =  1.8223863317155309\n",
      "Epoch = 210 loss =  1.6446449128827656\n",
      "Epoch = 220 loss =  1.53550015835259\n",
      "Epoch = 230 loss =  1.4510782335892232\n",
      "Epoch = 240 loss =  1.381025601895006\n",
      "Epoch = 250 loss =  1.3210935078750294\n",
      "Epoch = 260 loss =  1.268925850061745\n",
      "Epoch = 270 loss =  1.2229805518841725\n",
      "Epoch = 280 loss =  1.182152174829682\n",
      "Epoch = 290 loss =  1.1456055544541934\n",
      "Epoch = 300 loss =  1.1126885959477846\n",
      "Epoch = 310 loss =  1.0828805181214454\n",
      "Epoch = 320 loss =  1.0557583822340377\n",
      "Epoch = 330 loss =  1.0309741334281608\n",
      "Epoch = 340 loss =  1.0082381913293945\n",
      "Epoch = 350 loss =  0.9873073657171388\n",
      "Epoch = 360 loss =  0.9679757528147844\n",
      "Epoch = 370 loss =  0.9500677521682184\n",
      "Epoch = 380 loss =  0.9334326298607255\n",
      "Epoch = 390 loss =  0.9179402318039762\n",
      "Epoch = 400 loss =  0.903477566500061\n",
      "Epoch = 410 loss =  0.8899460543612516\n",
      "Epoch = 420 loss =  0.8772592942689551\n",
      "Epoch = 430 loss =  0.8653412358369851\n",
      "Epoch = 440 loss =  0.8541246729719496\n",
      "Epoch = 450 loss =  0.8435499941077721\n",
      "Epoch = 460 loss =  0.8335641391200653\n",
      "Epoch = 470 loss =  0.8241197238758442\n",
      "Epoch = 480 loss =  0.8151743016614676\n",
      "Epoch = 490 loss =  0.8066897370672702\n",
      "Epoch = 500 loss =  0.7986316727958933\n",
      "Epoch = 510 loss =  0.7909690736654835\n",
      "Epoch = 520 loss =  0.783673835062509\n",
      "Epoch = 530 loss =  0.776720445456132\n",
      "Epoch = 540 loss =  0.7700856944610657\n",
      "Epoch = 550 loss =  0.7637484194366775\n",
      "Epoch = 560 loss =  0.7576892848184388\n",
      "Epoch = 570 loss =  0.7518905893563378\n",
      "Epoch = 580 loss =  0.7463360972310775\n",
      "Epoch = 590 loss =  0.741010889670096\n",
      "Epoch = 600 loss =  0.7359012342205369\n",
      "Epoch = 610 loss =  0.7309944692777566\n",
      "Epoch = 620 loss =  0.7262789018338083\n",
      "Epoch = 630 loss =  0.7217437167146834\n",
      "Epoch = 640 loss =  0.7173788958291598\n",
      "Epoch = 650 loss =  0.7131751461650888\n",
      "Epoch = 660 loss =  0.7091238354479357\n",
      "Epoch = 670 loss =  0.7052169345274544\n",
      "Epoch = 680 loss =  0.7014469656862066\n",
      "Epoch = 690 loss =  0.6978069561720666\n",
      "Epoch = 700 loss =  0.6942903963492777\n",
      "Epoch = 710 loss =  0.6908912019414137\n",
      "Epoch = 720 loss =  0.6876036799071087\n",
      "Epoch = 730 loss =  0.6844224975473306\n",
      "Epoch = 740 loss =  0.6813426544928209\n",
      "Epoch = 750 loss =  0.678359457263273\n",
      "Epoch = 760 loss =  0.6754684961270293\n",
      "Epoch = 770 loss =  0.6726656240222244\n",
      "Epoch = 780 loss =  0.6699469373283042\n",
      "Epoch = 790 loss =  0.6673087583012018\n",
      "Epoch = 800 loss =  0.6647476190066147\n",
      "Epoch = 810 loss =  0.6622602466044589\n",
      "Epoch = 820 loss =  0.6598435498537752\n",
      "Epoch = 830 loss =  0.6574946067216284\n",
      "Epoch = 840 loss =  0.6552106529920662\n",
      "Epoch = 850 loss =  0.6529890717822412\n",
      "Epoch = 860 loss =  0.6508273838825389\n",
      "Epoch = 870 loss =  0.6487232388461363\n",
      "Epoch = 880 loss =  0.6466744067610434\n",
      "Epoch = 890 loss =  0.644678770644431\n",
      "Epoch = 900 loss =  0.6427343194050303\n",
      "Epoch = 910 loss =  0.640839141324729\n",
      "Epoch = 920 loss =  0.6389914180152283\n",
      "Epoch = 930 loss =  0.6371894188098853\n",
      "Epoch = 940 loss =  0.6354314955545985\n",
      "Epoch = 950 loss =  0.6337160777650334\n",
      "Epoch = 960 loss =  0.6320416681204877\n",
      "Epoch = 970 loss =  0.6304068382674236\n",
      "Epoch = 980 loss =  0.628810224908115\n",
      "Epoch = 990 loss =  0.6272505261520976\n",
      "Epoch = 1000 loss =  0.6257264981100501\n",
      "Training set accuracy\n",
      "              precision    recall  f1-score   support\n",
      "\n",
      "           0       1.00      1.00      1.00       140\n",
      "           1       1.00      1.00      1.00       125\n",
      "           2       1.00      1.00      1.00       137\n",
      "           3       1.00      1.00      1.00       128\n",
      "           4       1.00      1.00      1.00       137\n",
      "           5       1.00      0.99      1.00       145\n",
      "           6       1.00      1.00      1.00       134\n",
      "           7       1.00      1.00      1.00       120\n",
      "           8       1.00      1.00      1.00       144\n",
      "           9       0.99      1.00      1.00       137\n",
      "\n",
      "    accuracy                           1.00      1347\n",
      "   macro avg       1.00      1.00      1.00      1347\n",
      "weighted avg       1.00      1.00      1.00      1347\n",
      "\n",
      "Test set accuracy\n",
      "              precision    recall  f1-score   support\n",
      "\n",
      "           0       1.00      1.00      1.00        38\n",
      "           1       0.98      1.00      0.99        57\n",
      "           2       1.00      1.00      1.00        40\n",
      "           3       1.00      0.98      0.99        55\n",
      "           4       0.96      1.00      0.98        44\n",
      "           5       1.00      0.95      0.97        37\n",
      "           6       1.00      0.96      0.98        47\n",
      "           7       0.97      0.98      0.97        59\n",
      "           8       0.88      0.93      0.90        30\n",
      "           9       1.00      0.98      0.99        43\n",
      "\n",
      "    accuracy                           0.98       450\n",
      "   macro avg       0.98      0.98      0.98       450\n",
      "weighted avg       0.98      0.98      0.98       450\n",
      "\n"
     ]
    }
   ],
   "source": [
    "### CLASSIFY MNIST PICTURES\n",
    "\n",
    "# 'digits' is a tiny version of MNIST in sklearn.datasets has only 8 x 8 pixels\n",
    "# with grayscale values from 0 to 16\n",
    "digits = datasets.load_digits()\n",
    "data = digits.data.astype(\"float\")\n",
    "print(\"Samples: {}, Dimension: {}\".format(data.shape[0], data.shape[1]))\n",
    "\n",
    "X = data/16.0\n",
    "\n",
    "Y = digits.target\n",
    "\n",
    "# randomly choose 75% of the data to be the training set and 25% for the testing set\n",
    "trainX, testX, trainY, testY = train_test_split(X, Y, test_size = 0.25)\n",
    "\n",
    "# we need to turn the labels into 1-hot representations\n",
    "trainY = to_categorical(trainY)\n",
    "testY = to_categorical(testY)\n",
    "\n",
    "# fit the model to the training data\n",
    "model = FeedforwardNeuralNetwork([64, 32, 16, 10])\n",
    "model.fit(trainX, trainY, 1000, 10)\n",
    "\n",
    "# print the classification performance\n",
    "print(\"Training set accuracy\")\n",
    "\n",
    "predictedY = model.predict(trainX)\n",
    "predictedY = predictedY.argmax(axis=1)\n",
    "\n",
    "trainY = trainY.argmax(axis=1)\n",
    "\n",
    "print(classification_report(trainY, predictedY))\n",
    "\n",
    "print(\"Test set accuracy\")\n",
    "\n",
    "predictedY = model.predict(testX)\n",
    "predictedY = predictedY.argmax(axis=1)\n",
    "\n",
    "testY = testY.argmax(axis=1)\n",
    "\n",
    "print(classification_report(testY, predictedY))"
   ]
  },
  {
   "cell_type": "markdown",
   "metadata": {},
   "source": [
    "Almost all test images were labeled correctly, 97%! But let's take a look at the ones that were labeled wrong. Most look a bit ambiguous or messy, so it's not that surprising they were not classified correctly."
   ]
  },
  {
   "cell_type": "code",
   "execution_count": 12,
   "metadata": {},
   "outputs": [
    {
     "name": "stdout",
     "output_type": "stream",
     "text": [
      "16\n",
      "The correct label is 8\n",
      "The predicted label is 7\n",
      "167\n",
      "The correct label is 5\n",
      "The predicted label is 8\n",
      "216\n",
      "The correct label is 9\n",
      "The predicted label is 8\n",
      "253\n",
      "The correct label is 5\n",
      "The predicted label is 7\n",
      "268\n",
      "The correct label is 7\n",
      "The predicted label is 8\n",
      "317\n",
      "The correct label is 6\n",
      "The predicted label is 1\n",
      "372\n",
      "The correct label is 3\n",
      "The predicted label is 8\n",
      "398\n",
      "The correct label is 6\n",
      "The predicted label is 4\n",
      "417\n",
      "The correct label is 8\n",
      "The predicted label is 4\n"
     ]
    },
    {
     "data": {
      "image/png": "[encoded data removed]",
      "text/plain": [
       "<Figure size 288x288 with 1 Axes>"
      ]
     },
     "metadata": {
      "needs_background": "light"
     },
     "output_type": "display_data"
    },
    {
     "data": {
      "image/png": "[encoded data removed]",
      "text/plain": [
       "<Figure size 288x288 with 1 Axes>"
      ]
     },
     "metadata": {
      "needs_background": "light"
     },
     "output_type": "display_data"
    },
    {
     "data": {
      "image/png": "[encoded data removed]",
      "text/plain": [
       "<Figure size 288x288 with 1 Axes>"
      ]
     },
     "metadata": {
      "needs_background": "light"
     },
     "output_type": "display_data"
    },
    {
     "data": {
      "image/png": "[encoded data removed]",
      "text/plain": [
       "<Figure size 288x288 with 1 Axes>"
      ]
     },
     "metadata": {
      "needs_background": "light"
     },
     "output_type": "display_data"
    },
    {
     "data": {
      "image/png": "[encoded data removed]",
      "text/plain": [
       "<Figure size 288x288 with 1 Axes>"
      ]
     },
     "metadata": {
      "needs_background": "light"
     },
     "output_type": "display_data"
    },
    {
     "data": {
      "image/png": "[encoded data removed]",
      "text/plain": [
       "<Figure size 288x288 with 1 Axes>"
      ]
     },
     "metadata": {
      "needs_background": "light"
     },
     "output_type": "display_data"
    },
    {
     "data": {
      "image/png": "[encoded data removed]",
      "text/plain": [
       "<Figure size 288x288 with 1 Axes>"
      ]
     },
     "metadata": {
      "needs_background": "light"
     },
     "output_type": "display_data"
    },
    {
     "data": {
      "image/png": "[encoded data removed]",
      "text/plain": [
       "<Figure size 288x288 with 1 Axes>"
      ]
     },
     "metadata": {
      "needs_background": "light"
     },
     "output_type": "display_data"
    },
    {
     "data": {
      "image/png": "[encoded data removed]",
      "text/plain": [
       "<Figure size 288x288 with 1 Axes>"
      ]
     },
     "metadata": {
      "needs_background": "light"
     },
     "output_type": "display_data"
    }
   ],
   "source": [
    "import matplotlib.pyplot as plt\n",
    "\n",
    "for i in range(testX.shape[0]):\n",
    "    if testY[i] != predictedY[i]:\n",
    "        print(i)\n",
    "        print('The correct label is', testY[i])\n",
    "        print('The predicted label is', predictedY[i])\n",
    "        plt.matshow(16*testX[i].reshape(8,8), cmap='gray_r')"
   ]
  },
  {
   "cell_type": "markdown",
   "metadata": {},
   "source": [
    "Some of these images are really hard to interpret, even as a human, so it is unsurprising the model has trouble with them.\n",
    "\n",
    "## Example: Full-Size MNIST\n",
    "\n",
    "Next, let's try to use 1000 images from the full-sized MNIST dataset of 28-by-28 grayscale images."
   ]
  },
  {
   "cell_type": "code",
   "execution_count": 8,
   "metadata": {},
   "outputs": [],
   "source": [
    "from tensorflow.keras.datasets import mnist"
   ]
  },
  {
   "cell_type": "code",
   "execution_count": 15,
   "metadata": {},
   "outputs": [
    {
     "name": "stdout",
     "output_type": "stream",
     "text": [
      "Epoch = 100 loss =  10.403572633225846\n",
      "Epoch = 200 loss =  6.643451680640926\n",
      "Epoch = 300 loss =  6.354496880700732\n",
      "Epoch = 400 loss =  6.251887744158513\n",
      "Epoch = 500 loss =  6.194783009785175\n",
      "Epoch = 600 loss =  6.158131236614045\n",
      "Epoch = 700 loss =  6.131575350227791\n",
      "Epoch = 800 loss =  6.113217836747774\n",
      "Epoch = 900 loss =  6.099208222597442\n",
      "Epoch = 1000 loss =  6.088216385885412\n",
      "Training set accuracy\n",
      "              precision    recall  f1-score   support\n",
      "\n",
      "           0       0.99      0.99      0.99        70\n",
      "           1       1.00      0.99      0.99        76\n",
      "           2       0.99      0.99      0.99        82\n",
      "           3       0.98      0.95      0.97        64\n",
      "           4       0.99      0.99      0.99        82\n",
      "           5       0.96      0.97      0.97        71\n",
      "           6       0.97      0.99      0.98        73\n",
      "           7       1.00      1.00      1.00        89\n",
      "           8       1.00      0.98      0.99        66\n",
      "           9       0.96      0.99      0.97        77\n",
      "\n",
      "    accuracy                           0.98       750\n",
      "   macro avg       0.98      0.98      0.98       750\n",
      "weighted avg       0.98      0.98      0.98       750\n",
      "\n",
      "Test set accuracy\n",
      "              precision    recall  f1-score   support\n",
      "\n",
      "           0       0.87      0.74      0.80        27\n",
      "           1       0.93      0.93      0.93        40\n",
      "           2       0.71      0.59      0.65        17\n",
      "           3       0.75      0.93      0.83        29\n",
      "           4       0.75      0.91      0.82        23\n",
      "           5       0.87      0.62      0.72        21\n",
      "           6       0.67      0.86      0.75        21\n",
      "           7       0.77      0.82      0.79        28\n",
      "           8       0.80      0.76      0.78        21\n",
      "           9       0.94      0.70      0.80        23\n",
      "\n",
      "    accuracy                           0.80       250\n",
      "   macro avg       0.81      0.79      0.79       250\n",
      "weighted avg       0.81      0.80      0.80       250\n",
      "\n"
     ]
    }
   ],
   "source": [
    "### CLASSIFY MNIST PICTURES\n",
    "\n",
    "# create a dataset of 1000 MNIST images, reshaped as single vectors, and labels\n",
    "data = mnist.load_data()\n",
    "\n",
    "# The datapoints are in mnistData[0][0]\n",
    "X = data[0][0][:1000].reshape([1000,28*28])\n",
    "X = X/255.0\n",
    "\n",
    "# The labels are in mnistData[0][1]\n",
    "Y = data[0][1][:1000]\n",
    "\n",
    "# randomly choose 75% of the data to be the training set and 25% for the testing set\n",
    "trainX, testX, trainY, testY = train_test_split(X, Y, test_size = 0.25)\n",
    "\n",
    "trainY = to_categorical(trainY)\n",
    "testY = to_categorical(testY)\n",
    "\n",
    "# fit the model to the training data\n",
    "model = FeedforwardNeuralNetwork([784, 16, 10], 0.5)\n",
    "model.fit(trainX, trainY, 1000, 100)\n",
    "\n",
    "# print the classification performance\n",
    "print(\"Training set accuracy\")\n",
    "predictedY = model.predict(trainX)\n",
    "predictedY = predictedY.argmax(axis=1)\n",
    "\n",
    "trainY = trainY.argmax(axis=1)\n",
    "print(classification_report(trainY, predictedY))\n",
    "\n",
    "print(\"Test set accuracy\")\n",
    "predictedY = model.predict(testX)\n",
    "predictedY = predictedY.argmax(axis=1)\n",
    "\n",
    "testY = testY.argmax(axis=1)\n",
    "print(classification_report(testY, predictedY))"
   ]
  },
  {
   "cell_type": "markdown",
   "metadata": {},
   "source": [
    "Here, we have an **overfitting** problem because the training accuracy is good, but test accuracy is significantly worse. This frequently happens when we use a small dataset. In this case, we used only 1000 images, but it still took a several minutes to run. If we used 10000 images, which would be a more ideal dataset, it would take 30-40 minutes!\n",
    "\n",
    "This is no good... we need stochastic gradient descent to make this more useful on larger datasets."
   ]
  }
 ],
 "metadata": {
  "kernelspec": {
   "display_name": "Python 3 (ipykernel)",
   "language": "python",
   "name": "python3"
  },
  "language_info": {
   "codemirror_mode": {
    "name": "ipython",
    "version": 3
   },
   "file_extension": ".py",
   "mimetype": "text/x-python",
   "name": "python",
   "nbconvert_exporter": "python",
   "pygments_lexer": "ipython3",
   "version": "3.10.9"
  }
 },
 "nbformat": 4,
 "nbformat_minor": 4
}
