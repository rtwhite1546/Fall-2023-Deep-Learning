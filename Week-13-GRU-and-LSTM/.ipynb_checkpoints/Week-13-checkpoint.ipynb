{
 "cells": [
  {
   "cell_type": "markdown",
   "id": "a5989163-ad50-4dd6-8669-3dbcf0e365d6",
   "metadata": {
    "tags": []
   },
   "source": [
    "# Lecture 21 - Long Short Term Memory (LSTM)\n",
    "\n",
    "The recurrent neurons in RNNs have **short-term memory** since they explicitly process the activations from the previous timestep, which inherently depends on the previous timestep's activations, and so on. However, this short-term memory is very short: the data from multiple timesteps back become less and less influential, and this drop-off is very quick. This is not great for problems in natural language processing (NLP) tasks, such as sentiment analysis, since the meaning behind certain words (e.g. pronouns) may depend on other words far away from the original word. This long-distance dependence is not learnable very effectively by RNNs. The problem is even worse for audio analysis or speech recognition because the sequences are far longer since audio data is very dense in time.\n",
    "\n",
    "**Long** short term memory units (**LSTMs**) are similar to recurrent units in that they process sequence data in a neural architecture with backward connections in order to preserve short-term memory, but they are designed to encode longer-term dependencies than recurrent units. The general idea is that LSTMs work as memory units that can decide if and when to remember older activations in a way that is connected in a differentiable way to the loss function, permitting backpropagation to propagate gradients through the LSTM units. These gradients, if strong enough, will trigger the LSTM units to *save* information."
   ]
  },
  {
   "cell_type": "markdown",
   "id": "f6d74207-6d4c-4830-876d-81f9bbcb71b6",
   "metadata": {
    "tags": []
   },
   "source": [
    "## Preprocessing"
   ]
  },
  {
   "cell_type": "code",
   "execution_count": 1,
   "id": "ba1f7f2e-634d-4683-b82a-5d14e3c0fbee",
   "metadata": {},
   "outputs": [],
   "source": [
    "from tensorflow.keras import Input\n",
    "from tensorflow.keras.layers import Activation\n",
    "from tensorflow.keras.layers import Bidirectional\n",
    "from tensorflow.keras.layers import Conv1D\n",
    "from tensorflow.keras.layers import Dense\n",
    "from tensorflow.keras.layers import Dropout\n",
    "from tensorflow.keras.layers import Embedding\n",
    "from tensorflow.keras.layers import InputLayer\n",
    "from tensorflow.keras.layers import LSTM\n",
    "from tensorflow.keras.layers import MaxPooling1D\n",
    "from tensorflow.keras.layers import SimpleRNN\n",
    "from tensorflow.keras.layers.experimental.preprocessing import TextVectorization\n",
    "from tensorflow.keras.models import Sequential\n",
    "from tensorflow.keras.preprocessing import text_dataset_from_directory\n",
    "from tensorflow.strings import regex_replace\n",
    "\n",
    "import matplotlib.pyplot as plt\n",
    "import numpy as np\n",
    "import os\n",
    "import shutil\n",
    "import zipfile"
   ]
  },
  {
   "cell_type": "code",
   "execution_count": 29,
   "id": "b9e3706b-3a57-462d-840c-6b37e4a1aec0",
   "metadata": {},
   "outputs": [],
   "source": [
    "# unzip the imdb dataset\n",
    "with zipfile.ZipFile('../data/imdb.zip', 'r') as zip_ref:\n",
    "    zip_ref.extractall('../data/imdb/')"
   ]
  },
  {
   "cell_type": "code",
   "execution_count": 2,
   "id": "50a0a68a-c963-4665-a239-7802ff15b18b",
   "metadata": {},
   "outputs": [
    {
     "name": "stdout",
     "output_type": "stream",
     "text": [
      "Found 25000 files belonging to 2 classes.\n",
      "Found 25000 files belonging to 2 classes.\n"
     ]
    }
   ],
   "source": [
    "# clean the data by removing linebreaks\n",
    "def prepareData(dir):\n",
    "    # read the directory of datapoints and labels into a Dataset object\n",
    "    data = text_dataset_from_directory(dir)\n",
    "    \n",
    "    # replace HTML linebreaks from the text with spaces\n",
    "    return data.map(lambda text, label: (regex_replace(text, '<br />', ' '), label))\n",
    "\n",
    "# read the directory into memory and clean the text\n",
    "trainData = prepareData('../data/imdb/train')\n",
    "testData = prepareData('../data/imdb/test')"
   ]
  },
  {
   "cell_type": "markdown",
   "id": "bc1e3efe-7e69-4c61-b31d-a5ab5bb66f1e",
   "metadata": {
    "tags": []
   },
   "source": [
    "## Experiments With LSTM\n",
    "\n",
    "These experiments still correspond to the IMDB movie review data, but we use LSTM units rather than simple recurrent units."
   ]
  },
  {
   "cell_type": "code",
   "execution_count": 10,
   "id": "21b4778d-0767-40e6-a4a0-e191c58fc97d",
   "metadata": {},
   "outputs": [
    {
     "name": "stdout",
     "output_type": "stream",
     "text": [
      "Found 25000 files belonging to 2 classes.\n",
      "Found 25000 files belonging to 2 classes.\n",
      "WARNING:tensorflow:Please add `keras.layers.InputLayer` instead of `keras.Input` to Sequential model. `keras.Input` is intended to be used by Functional model.\n"
     ]
    }
   ],
   "source": [
    "# read the directory into memory and clean the text\n",
    "trainData = prepareData('../data/imdb/train')\n",
    "testData = prepareData('../data/imdb/test')\n",
    "\n",
    "# create a TextVectorization layer to turn input string into a sequence of integers,\n",
    "# each representing one token\n",
    "maxTokens = 1000\n",
    "vectorizeLayer = TextVectorization(max_tokens = maxTokens,\n",
    "                                   output_mode = 'int',\n",
    "                                   output_sequence_length = 100)\n",
    "\n",
    "# adapt() fits the TextVectorization layer to our text dataset. This is when the\n",
    "# max_tokens most common words (i.e. the vocabulary) are selected.\n",
    "trainText = trainData.map(lambda text, label: text)\n",
    "\n",
    "vectorizeLayer.adapt(trainText)\n",
    "\n",
    "model = Sequential()\n",
    "\n",
    "model.add(Input(shape=(1,), dtype = 'string'))\n",
    "\n",
    "# add layer to the model\n",
    "model.add(vectorizeLayer)\n",
    "\n",
    "# add an embedding layer to turn integers into fixed-length vectors\n",
    "model.add(Embedding(maxTokens + 1, 128))\n",
    "\n",
    "# add a fully-connected recurrent layer\n",
    "model.add(LSTM(64))\n",
    "\n",
    "# add a dense layer\n",
    "model.add(Dense(64, activation = 'relu'))\n",
    "model.add(Dropout(0.5))\n",
    "\n",
    "# add softmax classifier\n",
    "model.add(Dense(1, activation = 'sigmoid'))"
   ]
  },
  {
   "cell_type": "code",
   "execution_count": 11,
   "id": "62e9387a-6ef0-4ae7-a068-2a2e3a6ca555",
   "metadata": {},
   "outputs": [
    {
     "name": "stdout",
     "output_type": "stream",
     "text": [
      "Model: \"sequential_2\"\n",
      "_________________________________________________________________\n",
      "Layer (type)                 Output Shape              Param #   \n",
      "=================================================================\n",
      "text_vectorization_2 (TextVe (None, 100)               0         \n",
      "_________________________________________________________________\n",
      "embedding_2 (Embedding)      (None, 100, 128)          128128    \n",
      "_________________________________________________________________\n",
      "lstm (LSTM)                  (None, 64)                49408     \n",
      "_________________________________________________________________\n",
      "dense_4 (Dense)              (None, 64)                4160      \n",
      "_________________________________________________________________\n",
      "dropout (Dropout)            (None, 64)                0         \n",
      "_________________________________________________________________\n",
      "dense_5 (Dense)              (None, 1)                 65        \n",
      "=================================================================\n",
      "Total params: 181,761\n",
      "Trainable params: 181,761\n",
      "Non-trainable params: 0\n",
      "_________________________________________________________________\n"
     ]
    }
   ],
   "source": [
    "model.compile(optimizer = 'adam', loss = 'binary_crossentropy', metrics = ['accuracy'])\n",
    "model.summary()"
   ]
  },
  {
   "cell_type": "code",
   "execution_count": 12,
   "id": "cc967b95-a1b3-4006-8f89-c2d85fc51e95",
   "metadata": {},
   "outputs": [
    {
     "name": "stdout",
     "output_type": "stream",
     "text": [
      "Epoch 1/10\n",
      "782/782 [==============================] - 26s 24ms/step - loss: 0.5527 - accuracy: 0.7136 - val_loss: 0.4501 - val_accuracy: 0.7832\n",
      "Epoch 2/10\n",
      "782/782 [==============================] - 19s 24ms/step - loss: 0.4517 - accuracy: 0.7939 - val_loss: 0.4653 - val_accuracy: 0.7786\n",
      "Epoch 3/10\n",
      "782/782 [==============================] - 19s 24ms/step - loss: 0.4212 - accuracy: 0.8096 - val_loss: 0.4470 - val_accuracy: 0.7852\n",
      "Epoch 4/10\n",
      "782/782 [==============================] - 19s 24ms/step - loss: 0.3963 - accuracy: 0.8222 - val_loss: 0.4729 - val_accuracy: 0.7975\n",
      "Epoch 5/10\n",
      "782/782 [==============================] - 19s 24ms/step - loss: 0.3717 - accuracy: 0.8372 - val_loss: 0.4823 - val_accuracy: 0.7844\n",
      "Epoch 6/10\n",
      "782/782 [==============================] - 19s 24ms/step - loss: 0.3532 - accuracy: 0.8452 - val_loss: 0.5049 - val_accuracy: 0.7896\n",
      "Epoch 7/10\n",
      "782/782 [==============================] - 19s 24ms/step - loss: 0.3364 - accuracy: 0.8541 - val_loss: 0.5114 - val_accuracy: 0.7825\n",
      "Epoch 8/10\n",
      "782/782 [==============================] - 19s 24ms/step - loss: 0.3179 - accuracy: 0.8630 - val_loss: 0.5267 - val_accuracy: 0.7937\n",
      "Epoch 9/10\n",
      "782/782 [==============================] - 19s 24ms/step - loss: 0.3112 - accuracy: 0.8645 - val_loss: 0.5599 - val_accuracy: 0.7812\n",
      "Epoch 10/10\n",
      "782/782 [==============================] - 19s 24ms/step - loss: 0.3003 - accuracy: 0.8706 - val_loss: 0.5480 - val_accuracy: 0.7666\n"
     ]
    },
    {
     "data": {
      "text/plain": [
       "<matplotlib.legend.Legend at 0x1dc5a949580>"
      ]
     },
     "execution_count": 12,
     "metadata": {},
     "output_type": "execute_result"
    },
    {
     "data": {
      "image/png": "[encoded data removed]",
      "text/plain": [
       "<Figure size 432x288 with 1 Axes>"
      ]
     },
     "metadata": {},
     "output_type": "display_data"
    }
   ],
   "source": [
    "epochs = 10\n",
    "\n",
    "H = model.fit(trainData, validation_data = testData, epochs = epochs)\n",
    "\n",
    "plt.style.use('ggplot')\n",
    "plt.figure()\n",
    "plt.plot(np.arange(0, epochs), H.history['loss'], label = 'train_loss')\n",
    "plt.plot(np.arange(0, epochs), H.history['val_loss'], label = 'val_loss')\n",
    "plt.plot(np.arange(0, epochs), H.history['accuracy'], label = 'train_acc')\n",
    "plt.plot(np.arange(0, epochs), H.history['val_accuracy'], label = 'val_acc')\n",
    "    \n",
    "# add labels and legend\n",
    "plt.title('Training Loss and Accuracy')\n",
    "plt.xlabel('Epoch #')\n",
    "plt.ylabel('Loss/Accuracy')\n",
    "plt.legend()"
   ]
  },
  {
   "cell_type": "code",
   "execution_count": 13,
   "id": "f3736b22-6db7-431f-b84c-f81159139967",
   "metadata": {},
   "outputs": [
    {
     "name": "stdout",
     "output_type": "stream",
     "text": [
      "782/782 [==============================] - 8s 10ms/step - loss: 0.5480 - accuracy: 0.7666\n"
     ]
    },
    {
     "data": {
      "text/plain": [
       "[0.5480121374130249, 0.7666400074958801]"
      ]
     },
     "execution_count": 13,
     "metadata": {},
     "output_type": "execute_result"
    }
   ],
   "source": [
    "model.evaluate(testData)"
   ]
  },
  {
   "cell_type": "markdown",
   "id": "16543b58-0574-4896-aea4-2f91bb9008af",
   "metadata": {},
   "source": [
    "Performance improved versus simple recurrent net! But there is some overfitting, so let's try dropout."
   ]
  },
  {
   "cell_type": "code",
   "execution_count": 14,
   "id": "a738bb00-44d2-4c0d-a4c3-b925af051037",
   "metadata": {},
   "outputs": [
    {
     "name": "stdout",
     "output_type": "stream",
     "text": [
      "Found 25000 files belonging to 2 classes.\n",
      "Found 25000 files belonging to 2 classes.\n",
      "WARNING:tensorflow:Please add `keras.layers.InputLayer` instead of `keras.Input` to Sequential model. `keras.Input` is intended to be used by Functional model.\n"
     ]
    }
   ],
   "source": [
    "# read the directory into memory and clean the text\n",
    "trainData = prepareData('../data/imdb/train')\n",
    "testData = prepareData('../data/imdb/test')\n",
    "\n",
    "# create a TextVectorization layer to turn input string into a sequence of integers,\n",
    "# each representing one token\n",
    "maxTokens = 1000\n",
    "vectorizeLayer = TextVectorization(max_tokens = maxTokens,\n",
    "                                   output_mode = 'int',\n",
    "                                   output_sequence_length = 100)\n",
    "\n",
    "# adapt() fits the TextVectorization layer to our text dataset. This is when the\n",
    "# max_tokens most common words (i.e. the vocabulary) are selected.\n",
    "trainText = trainData.map(lambda text, label: text)\n",
    "\n",
    "vectorizeLayer.adapt(trainText)\n",
    "\n",
    "model = Sequential()\n",
    "\n",
    "model.add(Input(shape=(1,), dtype = 'string'))\n",
    "\n",
    "# add layer to the model\n",
    "model.add(vectorizeLayer)\n",
    "\n",
    "# add an embedding layer to turn integers into fixed-length vectors\n",
    "model.add(Embedding(maxTokens + 1, 128))\n",
    "\n",
    "# add a fully-connected recurrent layer\n",
    "model.add(LSTM(64))\n",
    "model.add(Dropout(0.5))\n",
    "\n",
    "# add a dense layer\n",
    "model.add(Dense(64, activation = 'relu'))\n",
    "model.add(Dropout(0.5))\n",
    "\n",
    "# add softmax classifier\n",
    "model.add(Dense(1, activation = 'sigmoid'))"
   ]
  },
  {
   "cell_type": "code",
   "execution_count": 15,
   "id": "b17798b2-66d1-4b9d-8dec-f384b2e2acfd",
   "metadata": {},
   "outputs": [
    {
     "name": "stdout",
     "output_type": "stream",
     "text": [
      "Model: \"sequential_3\"\n",
      "_________________________________________________________________\n",
      "Layer (type)                 Output Shape              Param #   \n",
      "=================================================================\n",
      "text_vectorization_3 (TextVe (None, 100)               0         \n",
      "_________________________________________________________________\n",
      "embedding_3 (Embedding)      (None, 100, 128)          128128    \n",
      "_________________________________________________________________\n",
      "lstm_1 (LSTM)                (None, 64)                49408     \n",
      "_________________________________________________________________\n",
      "dropout_1 (Dropout)          (None, 64)                0         \n",
      "_________________________________________________________________\n",
      "dense_6 (Dense)              (None, 64)                4160      \n",
      "_________________________________________________________________\n",
      "dropout_2 (Dropout)          (None, 64)                0         \n",
      "_________________________________________________________________\n",
      "dense_7 (Dense)              (None, 1)                 65        \n",
      "=================================================================\n",
      "Total params: 181,761\n",
      "Trainable params: 181,761\n",
      "Non-trainable params: 0\n",
      "_________________________________________________________________\n"
     ]
    }
   ],
   "source": [
    "model.compile(optimizer = 'adam', loss = 'binary_crossentropy', metrics = ['accuracy'])\n",
    "model.summary()"
   ]
  },
  {
   "cell_type": "code",
   "execution_count": 16,
   "id": "ffa8fa4e-6773-4d55-a0fc-026da20b1434",
   "metadata": {},
   "outputs": [
    {
     "name": "stdout",
     "output_type": "stream",
     "text": [
      "Epoch 1/10\n",
      "782/782 [==============================] - 20s 25ms/step - loss: 0.5810 - accuracy: 0.6832 - val_loss: 0.4766 - val_accuracy: 0.7826\n",
      "Epoch 2/10\n",
      "782/782 [==============================] - 19s 25ms/step - loss: 0.4561 - accuracy: 0.7928 - val_loss: 0.4537 - val_accuracy: 0.7847\n",
      "Epoch 3/10\n",
      "782/782 [==============================] - 19s 25ms/step - loss: 0.4276 - accuracy: 0.8090 - val_loss: 0.4535 - val_accuracy: 0.7796\n",
      "Epoch 4/10\n",
      "782/782 [==============================] - 19s 25ms/step - loss: 0.4026 - accuracy: 0.8218 - val_loss: 0.4564 - val_accuracy: 0.7842\n",
      "Epoch 5/10\n",
      "782/782 [==============================] - 19s 25ms/step - loss: 0.3777 - accuracy: 0.8361 - val_loss: 0.4706 - val_accuracy: 0.7837\n",
      "Epoch 6/10\n",
      "782/782 [==============================] - 19s 25ms/step - loss: 0.3618 - accuracy: 0.8443 - val_loss: 0.5199 - val_accuracy: 0.7743\n",
      "Epoch 7/10\n",
      "782/782 [==============================] - 19s 25ms/step - loss: 0.3450 - accuracy: 0.8540 - val_loss: 0.4981 - val_accuracy: 0.7724\n",
      "Epoch 8/10\n",
      "782/782 [==============================] - 19s 25ms/step - loss: 0.3334 - accuracy: 0.8592 - val_loss: 0.4936 - val_accuracy: 0.7804\n",
      "Epoch 9/10\n",
      "782/782 [==============================] - 19s 25ms/step - loss: 0.3248 - accuracy: 0.8647 - val_loss: 0.5068 - val_accuracy: 0.7750\n",
      "Epoch 10/10\n",
      "782/782 [==============================] - 19s 25ms/step - loss: 0.3165 - accuracy: 0.8684 - val_loss: 0.5281 - val_accuracy: 0.7808\n"
     ]
    },
    {
     "data": {
      "text/plain": [
       "<matplotlib.legend.Legend at 0x1d6e5892100>"
      ]
     },
     "execution_count": 16,
     "metadata": {},
     "output_type": "execute_result"
    },
    {
     "data": {
      "image/png": "[encoded data removed]",
      "text/plain": [
       "<Figure size 432x288 with 1 Axes>"
      ]
     },
     "metadata": {},
     "output_type": "display_data"
    }
   ],
   "source": [
    "epochs = 10\n",
    "\n",
    "H = model.fit(trainData, validation_data = testData, epochs = epochs)\n",
    "\n",
    "plt.style.use('ggplot')\n",
    "plt.figure()\n",
    "plt.plot(np.arange(0, epochs), H.history['loss'], label = 'train_loss')\n",
    "plt.plot(np.arange(0, epochs), H.history['val_loss'], label = 'val_loss')\n",
    "plt.plot(np.arange(0, epochs), H.history['accuracy'], label = 'train_acc')\n",
    "plt.plot(np.arange(0, epochs), H.history['val_accuracy'], label = 'val_acc')\n",
    "    \n",
    "# add labels and legend\n",
    "plt.title('Training Loss and Accuracy')\n",
    "plt.xlabel('Epoch #')\n",
    "plt.ylabel('Loss/Accuracy')\n",
    "plt.legend()"
   ]
  },
  {
   "cell_type": "code",
   "execution_count": 17,
   "id": "6b1fa112-9d01-4326-a2d6-f38f7d2c9653",
   "metadata": {},
   "outputs": [
    {
     "name": "stdout",
     "output_type": "stream",
     "text": [
      "782/782 [==============================] - 8s 10ms/step - loss: 0.5281 - accuracy: 0.7808\n"
     ]
    },
    {
     "data": {
      "text/plain": [
       "[0.5281499624252319, 0.7808399796485901]"
      ]
     },
     "execution_count": 17,
     "metadata": {},
     "output_type": "execute_result"
    }
   ],
   "source": [
    "model.evaluate(testData)"
   ]
  },
  {
   "cell_type": "code",
   "execution_count": 18,
   "id": "e67a48cf-1484-46ed-a05b-0900c010c89d",
   "metadata": {
    "tags": []
   },
   "outputs": [
    {
     "name": "stdout",
     "output_type": "stream",
     "text": [
      "Found 25000 files belonging to 2 classes.\n",
      "Found 25000 files belonging to 2 classes.\n",
      "WARNING:tensorflow:Please add `keras.layers.InputLayer` instead of `keras.Input` to Sequential model. `keras.Input` is intended to be used by Functional model.\n"
     ]
    }
   ],
   "source": [
    "# read the directory into memory and clean the text\n",
    "trainData = prepareData('../data/imdb/train')\n",
    "testData = prepareData('../data/imdb/test')\n",
    "\n",
    "# create a TextVectorization layer to turn input string into a sequence of integers,\n",
    "# each representing one token\n",
    "maxTokens = 1000\n",
    "vectorizeLayer = TextVectorization(max_tokens = maxTokens,\n",
    "                                   output_mode = 'int',\n",
    "                                   output_sequence_length = 100)\n",
    "\n",
    "# adapt() fits the TextVectorization layer to our text dataset. This is when the\n",
    "# the vocabulary is selected.\n",
    "trainText = trainData.map(lambda text, label: text)\n",
    "\n",
    "vectorizeLayer.adapt(trainText)\n",
    "\n",
    "model = Sequential()\n",
    "\n",
    "model.add(Input(shape=(1,), dtype = 'string'))\n",
    "\n",
    "# add layer to the model\n",
    "model.add(vectorizeLayer)\n",
    "\n",
    "# add an embedding layer to turn integers into fixed-length vectors\n",
    "model.add(Embedding(maxTokens + 1, 128))\n",
    "\n",
    "# add a fully-connected recurrent layer\n",
    "model.add(LSTM(64, return_sequences = True))\n",
    "\n",
    "# add a fully-connected recurrent layer\n",
    "model.add(LSTM(64))\n",
    "\n",
    "# add a dense layer\n",
    "model.add(Dense(64, activation = 'relu'))\n",
    "model.add(Dropout(0.5))\n",
    "\n",
    "# add softmax classifier\n",
    "model.add(Dense(1, activation = 'sigmoid'))"
   ]
  },
  {
   "cell_type": "code",
   "execution_count": 19,
   "id": "7cab1f68-7301-471d-9c92-b4fdb39ce100",
   "metadata": {
    "tags": []
   },
   "outputs": [
    {
     "name": "stdout",
     "output_type": "stream",
     "text": [
      "Model: \"sequential_4\"\n",
      "_________________________________________________________________\n",
      "Layer (type)                 Output Shape              Param #   \n",
      "=================================================================\n",
      "text_vectorization_4 (TextVe (None, 100)               0         \n",
      "_________________________________________________________________\n",
      "embedding_4 (Embedding)      (None, 100, 128)          128128    \n",
      "_________________________________________________________________\n",
      "lstm_2 (LSTM)                (None, 100, 64)           49408     \n",
      "_________________________________________________________________\n",
      "lstm_3 (LSTM)                (None, 64)                33024     \n",
      "_________________________________________________________________\n",
      "dense_8 (Dense)              (None, 64)                4160      \n",
      "_________________________________________________________________\n",
      "dropout_3 (Dropout)          (None, 64)                0         \n",
      "_________________________________________________________________\n",
      "dense_9 (Dense)              (None, 1)                 65        \n",
      "=================================================================\n",
      "Total params: 214,785\n",
      "Trainable params: 214,785\n",
      "Non-trainable params: 0\n",
      "_________________________________________________________________\n"
     ]
    }
   ],
   "source": [
    "model.compile(optimizer = 'adam', loss = 'binary_crossentropy', metrics = ['accuracy'])\n",
    "model.summary()"
   ]
  },
  {
   "cell_type": "code",
   "execution_count": 20,
   "id": "85cc4b74-3a44-4dcf-8fe1-16cfa4afec57",
   "metadata": {
    "tags": []
   },
   "outputs": [
    {
     "name": "stdout",
     "output_type": "stream",
     "text": [
      "Epoch 1/10\n",
      "782/782 [==============================] - 26s 32ms/step - loss: 0.5914 - accuracy: 0.6781 - val_loss: 0.4765 - val_accuracy: 0.7781\n",
      "Epoch 2/10\n",
      "782/782 [==============================] - 25s 31ms/step - loss: 0.4586 - accuracy: 0.7927 - val_loss: 0.4388 - val_accuracy: 0.7912\n",
      "Epoch 3/10\n",
      "782/782 [==============================] - 25s 31ms/step - loss: 0.4279 - accuracy: 0.8097 - val_loss: 0.4319 - val_accuracy: 0.7999\n",
      "Epoch 4/10\n",
      "782/782 [==============================] - 25s 31ms/step - loss: 0.4024 - accuracy: 0.8209 - val_loss: 0.4280 - val_accuracy: 0.8014\n",
      "Epoch 5/10\n",
      "782/782 [==============================] - 25s 31ms/step - loss: 0.3813 - accuracy: 0.8294 - val_loss: 0.4364 - val_accuracy: 0.7933\n",
      "Epoch 6/10\n",
      "782/782 [==============================] - 25s 31ms/step - loss: 0.3603 - accuracy: 0.8443 - val_loss: 0.4571 - val_accuracy: 0.7996\n",
      "Epoch 7/10\n",
      "782/782 [==============================] - 25s 31ms/step - loss: 0.3394 - accuracy: 0.8562 - val_loss: 0.4425 - val_accuracy: 0.8019\n",
      "Epoch 8/10\n",
      "782/782 [==============================] - 25s 31ms/step - loss: 0.3246 - accuracy: 0.8619 - val_loss: 0.4555 - val_accuracy: 0.7975\n",
      "Epoch 9/10\n",
      "782/782 [==============================] - 25s 31ms/step - loss: 0.3093 - accuracy: 0.8682 - val_loss: 0.4581 - val_accuracy: 0.7980\n",
      "Epoch 10/10\n",
      "782/782 [==============================] - 25s 31ms/step - loss: 0.2922 - accuracy: 0.8764 - val_loss: 0.5428 - val_accuracy: 0.7900\n"
     ]
    },
    {
     "data": {
      "text/plain": [
       "<matplotlib.legend.Legend at 0x1dc714f7ee0>"
      ]
     },
     "execution_count": 20,
     "metadata": {},
     "output_type": "execute_result"
    },
    {
     "data": {
      "image/png": "[encoded data removed]",
      "text/plain": [
       "<Figure size 432x288 with 1 Axes>"
      ]
     },
     "metadata": {},
     "output_type": "display_data"
    }
   ],
   "source": [
    "epochs = 10\n",
    "\n",
    "H = model.fit(trainData, validation_data = testData, epochs = epochs)\n",
    "\n",
    "plt.style.use('ggplot')\n",
    "plt.figure()\n",
    "plt.plot(np.arange(0, epochs), H.history['loss'], label = 'train_loss')\n",
    "plt.plot(np.arange(0, epochs), H.history['val_loss'], label = 'val_loss')\n",
    "plt.plot(np.arange(0, epochs), H.history['accuracy'], label = 'train_acc')\n",
    "plt.plot(np.arange(0, epochs), H.history['val_accuracy'], label = 'val_acc')\n",
    "    \n",
    "# add labels and legend\n",
    "plt.title('Training Loss and Accuracy')\n",
    "plt.xlabel('Epoch #')\n",
    "plt.ylabel('Loss/Accuracy')\n",
    "plt.legend()"
   ]
  },
  {
   "cell_type": "code",
   "execution_count": 21,
   "id": "2ca11c95-c456-4d27-9652-23b255da5b3a",
   "metadata": {},
   "outputs": [
    {
     "name": "stdout",
     "output_type": "stream",
     "text": [
      "782/782 [==============================] - 10s 13ms/step - loss: 0.5428 - accuracy: 0.7900\n"
     ]
    },
    {
     "data": {
      "text/plain": [
       "[0.5427930355072021, 0.7900000214576721]"
      ]
     },
     "execution_count": 21,
     "metadata": {},
     "output_type": "execute_result"
    }
   ],
   "source": [
    "model.evaluate(testData)"
   ]
  },
  {
   "cell_type": "markdown",
   "id": "3ca9cc41-0ad6-4bc2-b4e4-f6e2c07609f0",
   "metadata": {},
   "source": [
    "Let's try a **bidirectional** LSTM layer."
   ]
  },
  {
   "cell_type": "code",
   "execution_count": 22,
   "id": "806702fa-b4e6-41ea-99f5-2a38d52c3704",
   "metadata": {},
   "outputs": [
    {
     "name": "stdout",
     "output_type": "stream",
     "text": [
      "Found 25000 files belonging to 2 classes.\n",
      "Found 25000 files belonging to 2 classes.\n",
      "WARNING:tensorflow:Please add `keras.layers.InputLayer` instead of `keras.Input` to Sequential model. `keras.Input` is intended to be used by Functional model.\n"
     ]
    }
   ],
   "source": [
    "# read the directory into memory and clean the text\n",
    "trainData = prepareData('../data/imdb/train')\n",
    "testData = prepareData('../data/imdb/test')\n",
    "\n",
    "# create a TextVectorization layer to turn input string into a sequence of integers,\n",
    "# each representing one token\n",
    "maxTokens = 1000\n",
    "vectorizeLayer = TextVectorization(max_tokens = maxTokens,\n",
    "                                   output_mode = 'int',\n",
    "                                   output_sequence_length = 100)\n",
    "\n",
    "# adapt() fits the TextVectorization layer to our text dataset. This is when the\n",
    "# the vocabulary is selected.\n",
    "trainText = trainData.map(lambda text, label: text)\n",
    "\n",
    "vectorizeLayer.adapt(trainText)\n",
    "\n",
    "model = Sequential()\n",
    "\n",
    "model.add(Input(shape=(1,), dtype = 'string'))\n",
    "\n",
    "# add layer to the model\n",
    "model.add(vectorizeLayer)\n",
    "\n",
    "# add an embedding layer to turn integers into fixed-length vectors\n",
    "model.add(Embedding(maxTokens + 1, 128))\n",
    "\n",
    "# add a fully-connected recurrent layer\n",
    "model.add(LSTM(64, return_sequences = True))\n",
    "model.add(Dropout(0.5))\n",
    "\n",
    "# add a fully-connected recurrent layer\n",
    "model.add(Bidirectional(LSTM(64)))\n",
    "model.add(Dropout(0.5))\n",
    "\n",
    "# add a dense layer\n",
    "model.add(Dense(64, activation = 'relu'))\n",
    "model.add(Dropout(0.5))\n",
    "\n",
    "# add softmax classifier\n",
    "model.add(Dense(1, activation = 'sigmoid'))"
   ]
  },
  {
   "cell_type": "code",
   "execution_count": 23,
   "id": "4f53141f-758a-4eda-8695-fc5a8e6add41",
   "metadata": {},
   "outputs": [
    {
     "name": "stdout",
     "output_type": "stream",
     "text": [
      "Model: \"sequential_5\"\n",
      "_________________________________________________________________\n",
      "Layer (type)                 Output Shape              Param #   \n",
      "=================================================================\n",
      "text_vectorization_5 (TextVe (None, 100)               0         \n",
      "_________________________________________________________________\n",
      "embedding_5 (Embedding)      (None, 100, 128)          128128    \n",
      "_________________________________________________________________\n",
      "lstm_4 (LSTM)                (None, 100, 64)           49408     \n",
      "_________________________________________________________________\n",
      "dropout_4 (Dropout)          (None, 100, 64)           0         \n",
      "_________________________________________________________________\n",
      "bidirectional_1 (Bidirection (None, 128)               66048     \n",
      "_________________________________________________________________\n",
      "dropout_5 (Dropout)          (None, 128)               0         \n",
      "_________________________________________________________________\n",
      "dense_10 (Dense)             (None, 64)                8256      \n",
      "_________________________________________________________________\n",
      "dropout_6 (Dropout)          (None, 64)                0         \n",
      "_________________________________________________________________\n",
      "dense_11 (Dense)             (None, 1)                 65        \n",
      "=================================================================\n",
      "Total params: 251,905\n",
      "Trainable params: 251,905\n",
      "Non-trainable params: 0\n",
      "_________________________________________________________________\n"
     ]
    }
   ],
   "source": [
    "model.compile(optimizer = 'adam', loss = 'binary_crossentropy', metrics = ['accuracy'])\n",
    "model.summary()"
   ]
  },
  {
   "cell_type": "code",
   "execution_count": 24,
   "id": "2ed1a215-24e1-413e-bbd5-8ae065b4efb3",
   "metadata": {},
   "outputs": [
    {
     "name": "stdout",
     "output_type": "stream",
     "text": [
      "Epoch 1/10\n",
      "782/782 [==============================] - 31s 37ms/step - loss: 0.5311 - accuracy: 0.7246 - val_loss: 0.4645 - val_accuracy: 0.7823\n",
      "Epoch 2/10\n",
      "782/782 [==============================] - 29s 37ms/step - loss: 0.4403 - accuracy: 0.8007 - val_loss: 0.4255 - val_accuracy: 0.8007\n",
      "Epoch 3/10\n",
      "782/782 [==============================] - 29s 37ms/step - loss: 0.4125 - accuracy: 0.8162 - val_loss: 0.4367 - val_accuracy: 0.8034\n",
      "Epoch 4/10\n",
      "782/782 [==============================] - 29s 37ms/step - loss: 0.3902 - accuracy: 0.8280 - val_loss: 0.4344 - val_accuracy: 0.7950\n",
      "Epoch 5/10\n",
      "782/782 [==============================] - 29s 37ms/step - loss: 0.3685 - accuracy: 0.8404 - val_loss: 0.4737 - val_accuracy: 0.7899\n",
      "Epoch 6/10\n",
      "782/782 [==============================] - 29s 37ms/step - loss: 0.3518 - accuracy: 0.8497 - val_loss: 0.5137 - val_accuracy: 0.7852\n",
      "Epoch 7/10\n",
      "782/782 [==============================] - 29s 37ms/step - loss: 0.3330 - accuracy: 0.8591 - val_loss: 0.5006 - val_accuracy: 0.7936\n",
      "Epoch 8/10\n",
      "782/782 [==============================] - 29s 37ms/step - loss: 0.3155 - accuracy: 0.8703 - val_loss: 0.4899 - val_accuracy: 0.7818\n",
      "Epoch 9/10\n",
      "782/782 [==============================] - 29s 37ms/step - loss: 0.3014 - accuracy: 0.8740 - val_loss: 0.5115 - val_accuracy: 0.7847\n",
      "Epoch 10/10\n",
      "782/782 [==============================] - 29s 37ms/step - loss: 0.2880 - accuracy: 0.8817 - val_loss: 0.5288 - val_accuracy: 0.7748\n"
     ]
    },
    {
     "data": {
      "text/plain": [
       "<matplotlib.legend.Legend at 0x1dc5a824610>"
      ]
     },
     "execution_count": 24,
     "metadata": {},
     "output_type": "execute_result"
    },
    {
     "data": {
      "image/png": "[encoded data removed]",
      "text/plain": [
       "<Figure size 432x288 with 1 Axes>"
      ]
     },
     "metadata": {},
     "output_type": "display_data"
    }
   ],
   "source": [
    "epochs = 10\n",
    "\n",
    "H = model.fit(trainData, validation_data = testData, epochs = epochs)\n",
    "\n",
    "plt.style.use('ggplot')\n",
    "plt.figure()\n",
    "plt.plot(np.arange(0, epochs), H.history['loss'], label = 'train_loss')\n",
    "plt.plot(np.arange(0, epochs), H.history['val_loss'], label = 'val_loss')\n",
    "plt.plot(np.arange(0, epochs), H.history['accuracy'], label = 'train_acc')\n",
    "plt.plot(np.arange(0, epochs), H.history['val_accuracy'], label = 'val_acc')\n",
    "    \n",
    "# add labels and legend\n",
    "plt.title('Training Loss and Accuracy')\n",
    "plt.xlabel('Epoch #')\n",
    "plt.ylabel('Loss/Accuracy')\n",
    "plt.legend()"
   ]
  },
  {
   "cell_type": "code",
   "execution_count": 25,
   "id": "3fb8b9d0-3f8d-4580-8f85-33afa06c14bf",
   "metadata": {},
   "outputs": [
    {
     "name": "stdout",
     "output_type": "stream",
     "text": [
      "782/782 [==============================] - 11s 14ms/step - loss: 0.5288 - accuracy: 0.7748\n"
     ]
    },
    {
     "data": {
      "text/plain": [
       "[0.5288146734237671, 0.7748399972915649]"
      ]
     },
     "execution_count": 25,
     "metadata": {},
     "output_type": "execute_result"
    }
   ],
   "source": [
    "model.evaluate(testData)"
   ]
  },
  {
   "cell_type": "code",
   "execution_count": 31,
   "id": "bed88ea8-6604-4a06-af1b-276f3dded573",
   "metadata": {},
   "outputs": [
    {
     "name": "stdout",
     "output_type": "stream",
     "text": [
      "Found 25000 files belonging to 2 classes.\n",
      "Found 25000 files belonging to 2 classes.\n",
      "WARNING:tensorflow:Please add `keras.layers.InputLayer` instead of `keras.Input` to Sequential model. `keras.Input` is intended to be used by Functional model.\n"
     ]
    }
   ],
   "source": [
    "# read the directory into memory and clean the text\n",
    "trainData = prepareData('../data/imdb/train')\n",
    "testData = prepareData('../data/imdb/test')\n",
    "\n",
    "# create a TextVectorization layer to turn input string into a sequence of integers,\n",
    "# each representing one token\n",
    "maxTokens = 1000\n",
    "vectorizeLayer = TextVectorization(max_tokens = maxTokens,\n",
    "                                   output_mode = 'int',\n",
    "                                   output_sequence_length = 100)\n",
    "\n",
    "# adapt() fits the TextVectorization layer to our text dataset. This is when the\n",
    "# the vocabulary is selected.\n",
    "trainText = trainData.map(lambda text, label: text)\n",
    "\n",
    "vectorizeLayer.adapt(trainText)\n",
    "\n",
    "model = Sequential()\n",
    "\n",
    "model.add(Input(shape=(1,), dtype = 'string'))\n",
    "\n",
    "# add layer to the model\n",
    "model.add(vectorizeLayer)\n",
    "\n",
    "# add an embedding layer to turn integers into fixed-length vectors\n",
    "model.add(Embedding(maxTokens + 1, 128))\n",
    "\n",
    "# add a bidirectional LSTM layer\n",
    "model.add(Bidirectional(LSTM(64, return_sequences = True)))\n",
    "\n",
    "# add a bidirectional LSTM layer\n",
    "model.add(Bidirectional(LSTM(64)))\n",
    "\n",
    "# add a dense layer\n",
    "model.add(Dense(64, activation = 'relu'))\n",
    "model.add(Dropout(0.5))\n",
    "\n",
    "# add softmax classifier\n",
    "model.add(Dense(1, activation = 'sigmoid'))"
   ]
  },
  {
   "cell_type": "code",
   "execution_count": 32,
   "id": "cad86dc5-0f76-411d-acf1-2c8a8d6f0000",
   "metadata": {},
   "outputs": [
    {
     "name": "stdout",
     "output_type": "stream",
     "text": [
      "Model: \"sequential_7\"\n",
      "_________________________________________________________________\n",
      "Layer (type)                 Output Shape              Param #   \n",
      "=================================================================\n",
      "text_vectorization_7 (TextVe (None, 100)               0         \n",
      "_________________________________________________________________\n",
      "embedding_7 (Embedding)      (None, 100, 128)          128128    \n",
      "_________________________________________________________________\n",
      "bidirectional_2 (Bidirection (None, 100, 128)          98816     \n",
      "_________________________________________________________________\n",
      "bidirectional_3 (Bidirection (None, 128)               98816     \n",
      "_________________________________________________________________\n",
      "dense_12 (Dense)             (None, 64)                8256      \n",
      "_________________________________________________________________\n",
      "dropout_7 (Dropout)          (None, 64)                0         \n",
      "_________________________________________________________________\n",
      "dense_13 (Dense)             (None, 1)                 65        \n",
      "=================================================================\n",
      "Total params: 334,081\n",
      "Trainable params: 334,081\n",
      "Non-trainable params: 0\n",
      "_________________________________________________________________\n"
     ]
    }
   ],
   "source": [
    "model.compile(optimizer = 'adam', loss = 'binary_crossentropy', metrics = ['accuracy'])\n",
    "model.summary()"
   ]
  },
  {
   "cell_type": "code",
   "execution_count": 33,
   "id": "3c362f51-4ffa-45f4-a196-d4990015671f",
   "metadata": {},
   "outputs": [
    {
     "name": "stdout",
     "output_type": "stream",
     "text": [
      "Epoch 1/10\n",
      "782/782 [==============================] - 38s 45ms/step - loss: 0.5139 - accuracy: 0.7379 - val_loss: 0.4384 - val_accuracy: 0.7917\n",
      "Epoch 2/10\n",
      "782/782 [==============================] - 33s 42ms/step - loss: 0.4280 - accuracy: 0.8044 - val_loss: 0.4305 - val_accuracy: 0.7970\n",
      "Epoch 3/10\n",
      "782/782 [==============================] - 33s 42ms/step - loss: 0.4037 - accuracy: 0.8178 - val_loss: 0.4458 - val_accuracy: 0.7835\n",
      "Epoch 4/10\n",
      "782/782 [==============================] - 33s 42ms/step - loss: 0.3759 - accuracy: 0.8324 - val_loss: 0.4479 - val_accuracy: 0.7942\n",
      "Epoch 5/10\n",
      "782/782 [==============================] - 33s 42ms/step - loss: 0.3479 - accuracy: 0.8454 - val_loss: 0.4784 - val_accuracy: 0.7955\n",
      "Epoch 6/10\n",
      "782/782 [==============================] - 33s 42ms/step - loss: 0.3224 - accuracy: 0.8590 - val_loss: 0.5075 - val_accuracy: 0.7824\n",
      "Epoch 7/10\n",
      "782/782 [==============================] - 33s 42ms/step - loss: 0.3024 - accuracy: 0.8710 - val_loss: 0.5209 - val_accuracy: 0.7759\n",
      "Epoch 8/10\n",
      "782/782 [==============================] - 33s 42ms/step - loss: 0.2772 - accuracy: 0.8816 - val_loss: 0.6027 - val_accuracy: 0.7786\n",
      "Epoch 9/10\n",
      "782/782 [==============================] - 33s 42ms/step - loss: 0.2549 - accuracy: 0.8924 - val_loss: 0.6609 - val_accuracy: 0.7733\n",
      "Epoch 10/10\n",
      "782/782 [==============================] - 33s 42ms/step - loss: 0.2373 - accuracy: 0.9004 - val_loss: 0.6439 - val_accuracy: 0.7755\n"
     ]
    },
    {
     "data": {
      "text/plain": [
       "<matplotlib.legend.Legend at 0x1dc8cc54c40>"
      ]
     },
     "execution_count": 33,
     "metadata": {},
     "output_type": "execute_result"
    },
    {
     "data": {
      "image/png": "[encoded data removed]",
      "text/plain": [
       "<Figure size 432x288 with 1 Axes>"
      ]
     },
     "metadata": {},
     "output_type": "display_data"
    }
   ],
   "source": [
    "epochs = 10\n",
    "\n",
    "H = model.fit(trainData, validation_data = testData, epochs = epochs)\n",
    "\n",
    "plt.style.use('ggplot')\n",
    "plt.figure()\n",
    "plt.plot(np.arange(0, epochs), H.history['loss'], label = 'train_loss')\n",
    "plt.plot(np.arange(0, epochs), H.history['val_loss'], label = 'val_loss')\n",
    "plt.plot(np.arange(0, epochs), H.history['accuracy'], label = 'train_acc')\n",
    "plt.plot(np.arange(0, epochs), H.history['val_accuracy'], label = 'val_acc')\n",
    "    \n",
    "# add labels and legend\n",
    "plt.title('Training Loss and Accuracy')\n",
    "plt.xlabel('Epoch #')\n",
    "plt.ylabel('Loss/Accuracy')\n",
    "plt.legend()"
   ]
  },
  {
   "cell_type": "code",
   "execution_count": 34,
   "id": "1210f17b-5b5e-4fbb-8a29-6daf41b3f343",
   "metadata": {},
   "outputs": [
    {
     "name": "stdout",
     "output_type": "stream",
     "text": [
      "782/782 [==============================] - 13s 16ms/step - loss: 0.6439 - accuracy: 0.7755\n"
     ]
    },
    {
     "data": {
      "text/plain": [
       "[0.6438706517219543, 0.7754799723625183]"
      ]
     },
     "execution_count": 34,
     "metadata": {},
     "output_type": "execute_result"
    }
   ],
   "source": [
    "model.evaluate(testData)"
   ]
  },
  {
   "cell_type": "code",
   "execution_count": 35,
   "id": "36a409c8-6bc2-4144-84bb-b0840b431d9d",
   "metadata": {},
   "outputs": [
    {
     "name": "stdout",
     "output_type": "stream",
     "text": [
      "[[0.00387486]]\n",
      "[[0.9667904]]\n",
      "[[0.99967563]]\n",
      "[[0.9999263]]\n",
      "[[0.00513835]]\n"
     ]
    }
   ],
   "source": [
    "print(model.predict(['Watching this film was the worst experience of my life and I would rather die than watch it again.']))\n",
    "\n",
    "print(model.predict(['The acting is only okay in this movie, but it has an amazing storyline, so I rate it as good but not great.']))\n",
    "\n",
    "print(model.predict(['Dodgeball is my brother\\'s favorite movie, but I hate it']))\n",
    "\n",
    "print(model.predict(['Dodgeball is my brother\\'s favorite movie and it has its moments, but I think the comedy is sophomoric and crude. The acting is great, but the writing is subpar. Overall, I would rate this movie 2/10.']))\n",
    "\n",
    "print(model.predict(['I love Nicholas Cage, but this movie is horrible. NOT THE BEES.']))"
   ]
  },
  {
   "cell_type": "code",
   "execution_count": 27,
   "id": "b627f25d-dcb9-45ef-a0a6-dfa88dc4e1cc",
   "metadata": {},
   "outputs": [],
   "source": [
    "# delete the unzipped imdb dataset (this is just so I can upload to GitHub)\n",
    "if os.path.isfile('../data/imdb/README'):\n",
    "    shutil.rmtree('../data/imdb')"
   ]
  }
 ],
 "metadata": {
  "kernelspec": {
   "display_name": "Python 3 (ipykernel)",
   "language": "python",
   "name": "python3"
  },
  "language_info": {
   "codemirror_mode": {
    "name": "ipython",
    "version": 3
   },
   "file_extension": ".py",
   "mimetype": "text/x-python",
   "name": "python",
   "nbconvert_exporter": "python",
   "pygments_lexer": "ipython3",
   "version": "3.9.16"
  }
 },
 "nbformat": 4,
 "nbformat_minor": 5
}
